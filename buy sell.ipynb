{
 "cells": [
  {
   "cell_type": "code",
   "execution_count": 1,
   "metadata": {
    "colab": {
     "base_uri": "https://localhost:8080/"
    },
    "id": "klU0_pAmvko_",
    "outputId": "5e97d1f2-5cc9-4cd1-acb5-150e193bca9f"
   },
   "outputs": [
    {
     "name": "stderr",
     "output_type": "stream",
     "text": [
      "<ipython-input-1-4f9ff3e37b68>:9: FutureWarning: The pandas.datetime class is deprecated and will be removed from pandas in a future version. Import from datetime module instead.\n",
      "  from pandas import datetime\n"
     ]
    }
   ],
   "source": [
    "import numpy as np # linear algebra\n",
    "import pandas as pd # data processing, CSV file I/O (e.g. pd.read_csv)\n",
    "import os\n",
    "from subprocess import check_output\n",
    "import seaborn as sns\n",
    "import matplotlib.pyplot as plt\n",
    "import warnings\n",
    "from pandas.plotting import lag_plot\n",
    "from pandas import datetime\n",
    "from statsmodels.tsa.arima_model import ARIMA\n",
    "from sklearn.metrics import mean_squared_error\n",
    "\n",
    "dataFrameFileLocation = \"ETH_hourly_data.csv\"\n",
    "# load all data\n",
    "df = pd.read_csv(dataFrameFileLocation,\n",
    "                # parse_dates=[[' Date', ' Time']],\n",
    "                 low_memory=False,\n",
    "                 na_values=[np.nan,'NA','?'])\n",
    "df.drop(columns= [\"Unnamed: 0\", \"index\",] , inplace= True)"
   ]
  },
  {
   "cell_type": "code",
   "execution_count": 2,
   "metadata": {
    "colab": {
     "base_uri": "https://localhost:8080/",
     "height": 847
    },
    "id": "jJ8uZzVBvqx6",
    "outputId": "e2057f38-c7ce-44cb-8322-f0b35c6c90d2"
   },
   "outputs": [
    {
     "name": "stdout",
     "output_type": "stream",
     "text": [
      "data Shape : (16778, 6)\n",
      "data type : \n",
      " date      float64\n",
      "open      float64\n",
      "high      float64\n",
      "low       float64\n",
      "close     float64\n",
      "volume    float64\n",
      "dtype: object\n",
      "data column : \n",
      " Index(['date', 'open', 'high', 'low', 'close', 'volume'], dtype='object')\n",
      "data describtion : \n",
      " <bound method NDFrame.describe of                date     open     high      low    close       volume\n",
      "0      1.592050e+12   235.89   236.11   235.00   235.49   9425.79290\n",
      "1      1.592050e+12   235.50   236.82   235.06   236.38  15799.02804\n",
      "2      1.592050e+12   236.38   236.56   235.61   236.33   7264.88729\n",
      "3      1.592060e+12   236.35   238.39   236.29   237.76  24624.57173\n",
      "4      1.592060e+12   237.78   238.05   236.98   237.12  10134.14025\n",
      "...             ...      ...      ...      ...      ...          ...\n",
      "16773  1.652500e+12  2023.24  2045.41  2014.67  2036.00  18628.66590\n",
      "16774  1.652510e+12  2036.00  2048.68  2027.24  2042.45  14366.44330\n",
      "16775  1.652510e+12  2042.46  2048.40  2028.33  2031.94  13378.50320\n",
      "16776  1.652520e+12  2031.94  2050.30  2027.66  2042.07  20804.81490\n",
      "16777  1.652520e+12  2042.06  2053.98  2020.42  2028.75  25843.32830\n",
      "\n",
      "[16778 rows x 6 columns]>\n"
     ]
    },
    {
     "data": {
      "text/html": [
       "<div>\n",
       "<style scoped>\n",
       "    .dataframe tbody tr th:only-of-type {\n",
       "        vertical-align: middle;\n",
       "    }\n",
       "\n",
       "    .dataframe tbody tr th {\n",
       "        vertical-align: top;\n",
       "    }\n",
       "\n",
       "    .dataframe thead th {\n",
       "        text-align: right;\n",
       "    }\n",
       "</style>\n",
       "<table border=\"1\" class=\"dataframe\">\n",
       "  <thead>\n",
       "    <tr style=\"text-align: right;\">\n",
       "      <th></th>\n",
       "      <th>date</th>\n",
       "      <th>open</th>\n",
       "      <th>high</th>\n",
       "      <th>low</th>\n",
       "      <th>close</th>\n",
       "      <th>volume</th>\n",
       "    </tr>\n",
       "  </thead>\n",
       "  <tbody>\n",
       "    <tr>\n",
       "      <th>0</th>\n",
       "      <td>1.592050e+12</td>\n",
       "      <td>235.89</td>\n",
       "      <td>236.11</td>\n",
       "      <td>235.00</td>\n",
       "      <td>235.49</td>\n",
       "      <td>9425.79290</td>\n",
       "    </tr>\n",
       "    <tr>\n",
       "      <th>1</th>\n",
       "      <td>1.592050e+12</td>\n",
       "      <td>235.50</td>\n",
       "      <td>236.82</td>\n",
       "      <td>235.06</td>\n",
       "      <td>236.38</td>\n",
       "      <td>15799.02804</td>\n",
       "    </tr>\n",
       "    <tr>\n",
       "      <th>2</th>\n",
       "      <td>1.592050e+12</td>\n",
       "      <td>236.38</td>\n",
       "      <td>236.56</td>\n",
       "      <td>235.61</td>\n",
       "      <td>236.33</td>\n",
       "      <td>7264.88729</td>\n",
       "    </tr>\n",
       "    <tr>\n",
       "      <th>3</th>\n",
       "      <td>1.592060e+12</td>\n",
       "      <td>236.35</td>\n",
       "      <td>238.39</td>\n",
       "      <td>236.29</td>\n",
       "      <td>237.76</td>\n",
       "      <td>24624.57173</td>\n",
       "    </tr>\n",
       "    <tr>\n",
       "      <th>4</th>\n",
       "      <td>1.592060e+12</td>\n",
       "      <td>237.78</td>\n",
       "      <td>238.05</td>\n",
       "      <td>236.98</td>\n",
       "      <td>237.12</td>\n",
       "      <td>10134.14025</td>\n",
       "    </tr>\n",
       "  </tbody>\n",
       "</table>\n",
       "</div>"
      ],
      "text/plain": [
       "           date    open    high     low   close       volume\n",
       "0  1.592050e+12  235.89  236.11  235.00  235.49   9425.79290\n",
       "1  1.592050e+12  235.50  236.82  235.06  236.38  15799.02804\n",
       "2  1.592050e+12  236.38  236.56  235.61  236.33   7264.88729\n",
       "3  1.592060e+12  236.35  238.39  236.29  237.76  24624.57173\n",
       "4  1.592060e+12  237.78  238.05  236.98  237.12  10134.14025"
      ]
     },
     "metadata": {},
     "output_type": "display_data"
    },
    {
     "data": {
      "text/html": [
       "<div>\n",
       "<style scoped>\n",
       "    .dataframe tbody tr th:only-of-type {\n",
       "        vertical-align: middle;\n",
       "    }\n",
       "\n",
       "    .dataframe tbody tr th {\n",
       "        vertical-align: top;\n",
       "    }\n",
       "\n",
       "    .dataframe thead th {\n",
       "        text-align: right;\n",
       "    }\n",
       "</style>\n",
       "<table border=\"1\" class=\"dataframe\">\n",
       "  <thead>\n",
       "    <tr style=\"text-align: right;\">\n",
       "      <th></th>\n",
       "      <th>date</th>\n",
       "      <th>open</th>\n",
       "      <th>high</th>\n",
       "      <th>low</th>\n",
       "      <th>close</th>\n",
       "      <th>volume</th>\n",
       "    </tr>\n",
       "  </thead>\n",
       "  <tbody>\n",
       "    <tr>\n",
       "      <th>16773</th>\n",
       "      <td>1.652500e+12</td>\n",
       "      <td>2023.24</td>\n",
       "      <td>2045.41</td>\n",
       "      <td>2014.67</td>\n",
       "      <td>2036.00</td>\n",
       "      <td>18628.6659</td>\n",
       "    </tr>\n",
       "    <tr>\n",
       "      <th>16774</th>\n",
       "      <td>1.652510e+12</td>\n",
       "      <td>2036.00</td>\n",
       "      <td>2048.68</td>\n",
       "      <td>2027.24</td>\n",
       "      <td>2042.45</td>\n",
       "      <td>14366.4433</td>\n",
       "    </tr>\n",
       "    <tr>\n",
       "      <th>16775</th>\n",
       "      <td>1.652510e+12</td>\n",
       "      <td>2042.46</td>\n",
       "      <td>2048.40</td>\n",
       "      <td>2028.33</td>\n",
       "      <td>2031.94</td>\n",
       "      <td>13378.5032</td>\n",
       "    </tr>\n",
       "    <tr>\n",
       "      <th>16776</th>\n",
       "      <td>1.652520e+12</td>\n",
       "      <td>2031.94</td>\n",
       "      <td>2050.30</td>\n",
       "      <td>2027.66</td>\n",
       "      <td>2042.07</td>\n",
       "      <td>20804.8149</td>\n",
       "    </tr>\n",
       "    <tr>\n",
       "      <th>16777</th>\n",
       "      <td>1.652520e+12</td>\n",
       "      <td>2042.06</td>\n",
       "      <td>2053.98</td>\n",
       "      <td>2020.42</td>\n",
       "      <td>2028.75</td>\n",
       "      <td>25843.3283</td>\n",
       "    </tr>\n",
       "  </tbody>\n",
       "</table>\n",
       "</div>"
      ],
      "text/plain": [
       "               date     open     high      low    close      volume\n",
       "16773  1.652500e+12  2023.24  2045.41  2014.67  2036.00  18628.6659\n",
       "16774  1.652510e+12  2036.00  2048.68  2027.24  2042.45  14366.4433\n",
       "16775  1.652510e+12  2042.46  2048.40  2028.33  2031.94  13378.5032\n",
       "16776  1.652520e+12  2031.94  2050.30  2027.66  2042.07  20804.8149\n",
       "16777  1.652520e+12  2042.06  2053.98  2020.42  2028.75  25843.3283"
      ]
     },
     "metadata": {},
     "output_type": "display_data"
    }
   ],
   "source": [
    "# Data Analysis commands\n",
    "\n",
    "print ( f\"data Shape : {df.shape}\")\n",
    "print ( f\"data type : \\n {df.dtypes}\")\n",
    "print ( f\"data column : \\n {df.columns}\")\n",
    "print ( f\"data describtion : \\n {df.describe}\")\n",
    "display(df.head(5))\n",
    "display(df.tail(5))\n"
   ]
  },
  {
   "cell_type": "code",
   "execution_count": 3,
   "metadata": {
    "colab": {
     "base_uri": "https://localhost:8080/",
     "height": 300
    },
    "id": "sSAGyb8Pw2Wg",
    "outputId": "b5c25d7f-67e4-43ab-a60d-959a9557435c"
   },
   "outputs": [
    {
     "data": {
      "text/html": [
       "<div>\n",
       "<style scoped>\n",
       "    .dataframe tbody tr th:only-of-type {\n",
       "        vertical-align: middle;\n",
       "    }\n",
       "\n",
       "    .dataframe tbody tr th {\n",
       "        vertical-align: top;\n",
       "    }\n",
       "\n",
       "    .dataframe thead th {\n",
       "        text-align: right;\n",
       "    }\n",
       "</style>\n",
       "<table border=\"1\" class=\"dataframe\">\n",
       "  <thead>\n",
       "    <tr style=\"text-align: right;\">\n",
       "      <th></th>\n",
       "      <th>date</th>\n",
       "      <th>open</th>\n",
       "      <th>high</th>\n",
       "      <th>low</th>\n",
       "      <th>close</th>\n",
       "      <th>volume</th>\n",
       "    </tr>\n",
       "  </thead>\n",
       "  <tbody>\n",
       "    <tr>\n",
       "      <th>count</th>\n",
       "      <td>1.677800e+04</td>\n",
       "      <td>16778.000000</td>\n",
       "      <td>16778.000000</td>\n",
       "      <td>16778.000000</td>\n",
       "      <td>16778.000000</td>\n",
       "      <td>16778.000000</td>\n",
       "    </tr>\n",
       "    <tr>\n",
       "      <th>mean</th>\n",
       "      <td>1.622291e+12</td>\n",
       "      <td>2119.478009</td>\n",
       "      <td>2134.271224</td>\n",
       "      <td>2103.466555</td>\n",
       "      <td>2119.582944</td>\n",
       "      <td>33901.192745</td>\n",
       "    </tr>\n",
       "    <tr>\n",
       "      <th>std</th>\n",
       "      <td>1.746250e+10</td>\n",
       "      <td>1332.625161</td>\n",
       "      <td>1340.570123</td>\n",
       "      <td>1324.080673</td>\n",
       "      <td>1332.547198</td>\n",
       "      <td>32151.450280</td>\n",
       "    </tr>\n",
       "    <tr>\n",
       "      <th>min</th>\n",
       "      <td>1.592050e+12</td>\n",
       "      <td>217.810000</td>\n",
       "      <td>220.140000</td>\n",
       "      <td>216.000000</td>\n",
       "      <td>217.840000</td>\n",
       "      <td>0.000000</td>\n",
       "    </tr>\n",
       "    <tr>\n",
       "      <th>25%</th>\n",
       "      <td>1.607160e+12</td>\n",
       "      <td>585.515000</td>\n",
       "      <td>588.637500</td>\n",
       "      <td>582.232500</td>\n",
       "      <td>585.612500</td>\n",
       "      <td>14854.433380</td>\n",
       "    </tr>\n",
       "    <tr>\n",
       "      <th>50%</th>\n",
       "      <td>1.622300e+12</td>\n",
       "      <td>2282.605000</td>\n",
       "      <td>2303.845000</td>\n",
       "      <td>2255.315000</td>\n",
       "      <td>2282.610000</td>\n",
       "      <td>24495.213250</td>\n",
       "    </tr>\n",
       "    <tr>\n",
       "      <th>75%</th>\n",
       "      <td>1.637420e+12</td>\n",
       "      <td>3157.267500</td>\n",
       "      <td>3176.197500</td>\n",
       "      <td>3137.350000</td>\n",
       "      <td>3157.257500</td>\n",
       "      <td>41062.288392</td>\n",
       "    </tr>\n",
       "    <tr>\n",
       "      <th>max</th>\n",
       "      <td>1.652520e+12</td>\n",
       "      <td>4846.940000</td>\n",
       "      <td>4868.000000</td>\n",
       "      <td>4833.190000</td>\n",
       "      <td>4846.710000</td>\n",
       "      <td>493227.882800</td>\n",
       "    </tr>\n",
       "  </tbody>\n",
       "</table>\n",
       "</div>"
      ],
      "text/plain": [
       "               date          open          high           low         close  \\\n",
       "count  1.677800e+04  16778.000000  16778.000000  16778.000000  16778.000000   \n",
       "mean   1.622291e+12   2119.478009   2134.271224   2103.466555   2119.582944   \n",
       "std    1.746250e+10   1332.625161   1340.570123   1324.080673   1332.547198   \n",
       "min    1.592050e+12    217.810000    220.140000    216.000000    217.840000   \n",
       "25%    1.607160e+12    585.515000    588.637500    582.232500    585.612500   \n",
       "50%    1.622300e+12   2282.605000   2303.845000   2255.315000   2282.610000   \n",
       "75%    1.637420e+12   3157.267500   3176.197500   3137.350000   3157.257500   \n",
       "max    1.652520e+12   4846.940000   4868.000000   4833.190000   4846.710000   \n",
       "\n",
       "              volume  \n",
       "count   16778.000000  \n",
       "mean    33901.192745  \n",
       "std     32151.450280  \n",
       "min         0.000000  \n",
       "25%     14854.433380  \n",
       "50%     24495.213250  \n",
       "75%     41062.288392  \n",
       "max    493227.882800  "
      ]
     },
     "execution_count": 3,
     "metadata": {},
     "output_type": "execute_result"
    }
   ],
   "source": [
    "df.describe()"
   ]
  },
  {
   "cell_type": "code",
   "execution_count": 4,
   "metadata": {
    "colab": {
     "base_uri": "https://localhost:8080/"
    },
    "id": "D0vCpRZxxGJ0",
    "outputId": "2da130ed-4ab9-4628-e5be-c7ab4b4cd66e"
   },
   "outputs": [
    {
     "name": "stdout",
     "output_type": "stream",
     "text": [
      "<class 'pandas.core.frame.DataFrame'>\n",
      "RangeIndex: 16778 entries, 0 to 16777\n",
      "Data columns (total 6 columns):\n",
      " #   Column  Non-Null Count  Dtype  \n",
      "---  ------  --------------  -----  \n",
      " 0   date    16778 non-null  float64\n",
      " 1   open    16778 non-null  float64\n",
      " 2   high    16778 non-null  float64\n",
      " 3   low     16778 non-null  float64\n",
      " 4   close   16778 non-null  float64\n",
      " 5   volume  16778 non-null  float64\n",
      "dtypes: float64(6)\n",
      "memory usage: 786.6 KB\n"
     ]
    }
   ],
   "source": [
    "df.info()"
   ]
  },
  {
   "cell_type": "code",
   "execution_count": 5,
   "metadata": {
    "colab": {
     "base_uri": "https://localhost:8080/",
     "height": 410
    },
    "id": "3q5YtDKPxtt5",
    "outputId": "1c72f316-25bd-45ef-fd29-9724f79ca14e"
   },
   "outputs": [
    {
     "data": {
      "text/plain": [
       "Text(0.5, 1.0, 'Closing Price')"
      ]
     },
     "execution_count": 5,
     "metadata": {},
     "output_type": "execute_result"
    },
    {
     "data": {
      "image/png": "[encoded data removed]",
      "text/plain": [
       "<Figure size 864x432 with 1 Axes>"
      ]
     },
     "metadata": {},
     "output_type": "display_data"
    }
   ],
   "source": [
    "import matplotlib.pyplot as plt\n",
    "# Display figures inline in Jupyter notebook\n",
    "import seaborn as sns\n",
    "# Use seaborn style defaults\n",
    "sns.set(rc={'figure.figsize':(12, 6)})\n",
    "df['close'].plot(linewidth=1);\n",
    "plt.ylabel('Close')\n",
    "plt.xlabel(None)\n",
    "plt.title(\"Closing Price\")"
   ]
  },
  {
   "cell_type": "code",
   "execution_count": 6,
   "metadata": {
    "colab": {
     "base_uri": "https://localhost:8080/",
     "height": 410
    },
    "id": "9xtNaVs5yO2V",
    "outputId": "bd10ec18-ee26-47e6-fb3f-a171131d05c0"
   },
   "outputs": [
    {
     "data": {
      "text/plain": [
       "Text(0.5, 1.0, 'Stock Cumulative Returns')"
      ]
     },
     "execution_count": 6,
     "metadata": {},
     "output_type": "execute_result"
    },
    {
     "data": {
      "image/png": "[encoded data removed]",
      "text/plain": [
       "<Figure size 864x432 with 1 Axes>"
      ]
     },
     "metadata": {},
     "output_type": "display_data"
    }
   ],
   "source": [
    "# Comulative Return\n",
    "dd = pd.read_csv(dataFrameFileLocation,\n",
    "                 low_memory=False,\n",
    "                 na_values=[np.nan,'NA','?'])\n",
    "dd.drop(columns= [\"Unnamed: 0\", \"index\",\"date\"] , inplace= True)\n",
    "dr = dd.cumsum()\n",
    "dr.plot()\n",
    "plt.title('Stock Cumulative Returns')"
   ]
  },
  {
   "cell_type": "code",
   "execution_count": 7,
   "metadata": {
    "colab": {
     "base_uri": "https://localhost:8080/",
     "height": 682
    },
    "id": "RS2jKWlZz70D",
    "outputId": "941bc448-403e-47e5-a69e-c4ea2eae619b"
   },
   "outputs": [
    {
     "name": "stderr",
     "output_type": "stream",
     "text": [
      "*c* argument looks like a single numeric RGB or RGBA sequence, which should be avoided as value-mapping will have precedence in case its length matches with *x* & *y*.  Please use the *color* keyword-argument or provide a 2-D array with a single row if you intend to specify the same RGB or RGBA value for all points.\n"
     ]
    },
    {
     "data": {
      "text/plain": [
       "Text(0.5, 1.0, 'Stock Autocorrelation plot')"
      ]
     },
     "execution_count": 7,
     "metadata": {},
     "output_type": "execute_result"
    },
    {
     "data": {
      "image/png": "[encoded data removed]",
      "text/plain": [
       "<Figure size 720x720 with 1 Axes>"
      ]
     },
     "metadata": {},
     "output_type": "display_data"
    }
   ],
   "source": [
    "plt.figure(figsize=(10,10))\n",
    "lag_plot(df['open'], lag=5)\n",
    "plt.title('Stock Autocorrelation plot')"
   ]
  },
  {
   "cell_type": "code",
   "execution_count": 8,
   "metadata": {
    "colab": {
     "base_uri": "https://localhost:8080/",
     "height": 481
    },
    "id": "zgk-RekR6bnO",
    "outputId": "ab609faf-fad3-4a27-d580-a26fc9bc15a4"
   },
   "outputs": [
    {
     "data": {
      "text/plain": [
       "<matplotlib.legend.Legend at 0x255ca672fd0>"
      ]
     },
     "execution_count": 8,
     "metadata": {},
     "output_type": "execute_result"
    },
    {
     "data": {
      "image/png": "[encoded data removed]",
      "text/plain": [
       "<Figure size 864x504 with 1 Axes>"
      ]
     },
     "metadata": {},
     "output_type": "display_data"
    }
   ],
   "source": [
    "train_data, test_data = df[0:int(len(df)*0.8)], df[int(len(df)*0.8):]\n",
    "plt.figure(figsize=(12,7))\n",
    "plt.title('Tesla Prices')\n",
    "plt.xlabel('Dates')\n",
    "plt.ylabel('Prices')\n",
    "plt.plot(df['open'], 'blue', label='Training Data')\n",
    "plt.plot(test_data['open'], 'green', label='Testing Data')\n",
    "plt.legend()"
   ]
  },
  {
   "cell_type": "code",
   "execution_count": 9,
   "metadata": {
    "colab": {
     "base_uri": "https://localhost:8080/"
    },
    "id": "e2Cryc3GD2Hi",
    "outputId": "a70e9bba-af9a-4c5b-faad-4d2e07a3c842"
   },
   "outputs": [
    {
     "name": "stdout",
     "output_type": "stream",
     "text": [
      "WARNING:tensorflow:From C:\\Users\\shahi.DESKTOP-0P8DTAU.000\\anaconda3\\lib\\site-packages\\tensorflow\\python\\compat\\v2_compat.py:107: disable_resource_variables (from tensorflow.python.ops.variable_scope) is deprecated and will be removed in a future version.\n",
      "Instructions for updating:\n",
      "non-resource variables are not supported in the long term\n"
     ]
    }
   ],
   "source": [
    "import tensorflow.compat.v1 as tf\n",
    "tf.disable_v2_behavior()\n",
    "from collections import deque\n",
    "import random\n",
    "        \n",
    "class Agent:\n",
    "\n",
    "    LEARNING_RATE = 0.003\n",
    "    BATCH_SIZE = 32\n",
    "    LAYER_SIZE = 256\n",
    "    OUTPUT_SIZE = 3\n",
    "    EPSILON = 0.5\n",
    "    DECAY_RATE = 0.005\n",
    "    MIN_EPSILON = 0.1\n",
    "    GAMMA = 0.99\n",
    "    MEMORIES = deque()\n",
    "    MEMORY_SIZE = 300\n",
    "    \n",
    "    def __init__(self, state_size, window_size, trend, skip):\n",
    "        self.state_size = state_size\n",
    "        self.window_size = window_size\n",
    "        self.half_window = window_size // 2\n",
    "        self.trend = trend\n",
    "        self.skip = skip\n",
    "        tf.compat.v1.reset_default_graph()\n",
    "        self.INITIAL_FEATURES = np.zeros((4, self.state_size))\n",
    "        self.X = tf.placeholder(tf.float32, (None, None, self.state_size))\n",
    "        self.Y = tf.placeholder(tf.float32, (None, self.OUTPUT_SIZE))\n",
    "        cell = tf.nn.rnn_cell.LSTMCell(self.LAYER_SIZE, state_is_tuple = False)\n",
    "        self.hidden_layer = tf.placeholder(tf.float32, (None, 2 * self.LAYER_SIZE))\n",
    "        self.rnn,self.last_state = tf.nn.dynamic_rnn(inputs=self.X,cell=cell,\n",
    "                                                    dtype=tf.float32,\n",
    "                                                    initial_state=self.hidden_layer)\n",
    "        tensor_action, tensor_validation = tf.split(self.rnn[:,-1],2,1)\n",
    "        feed_action = tf.layers.dense(tensor_action, self.OUTPUT_SIZE)\n",
    "        feed_validation = tf.layers.dense(tensor_validation, 1)\n",
    "        self.logits = feed_validation + tf.subtract(feed_action,tf.reduce_mean(feed_action,axis=1,keep_dims=True))\n",
    "        self.cost = tf.reduce_sum(tf.square(self.Y - self.logits))\n",
    "        self.optimizer = tf.train.AdamOptimizer(learning_rate = self.LEARNING_RATE).minimize(self.cost)\n",
    "        self.sess = tf.InteractiveSession()\n",
    "        self.sess.run(tf.global_variables_initializer())\n",
    "    \n",
    "    def _memorize(self, state, action, reward, new_state, dead, rnn_state):\n",
    "        self.MEMORIES.append((state, action, reward, new_state, dead, rnn_state))\n",
    "        if len(self.MEMORIES) > self.MEMORY_SIZE:\n",
    "            self.MEMORIES.popleft()\n",
    "\n",
    "    def _construct_memories(self, replay):\n",
    "        states = np.array([a[0] for a in replay])\n",
    "        new_states = np.array([a[3] for a in replay])\n",
    "        init_values = np.array([a[-1] for a in replay])\n",
    "        Q = self.sess.run(self.logits, feed_dict={self.X:states, self.hidden_layer:init_values})\n",
    "        Q_new = self.sess.run(self.logits, feed_dict={self.X:new_states, self.hidden_layer:init_values})\n",
    "        replay_size = len(replay)\n",
    "        X = np.empty((replay_size, 4, self.state_size))\n",
    "        Y = np.empty((replay_size, self.OUTPUT_SIZE))\n",
    "        INIT_VAL = np.empty((replay_size, 2 * self.LAYER_SIZE))\n",
    "        for i in range(replay_size):\n",
    "            state_r, action_r, reward_r, new_state_r, dead_r, rnn_memory = replay[i]\n",
    "            target = Q[i]\n",
    "            target[action_r] = reward_r\n",
    "            if not dead_r:\n",
    "                target[action_r] += self.GAMMA * np.amax(Q_new[i])\n",
    "            X[i] = state_r\n",
    "            Y[i] = target\n",
    "            INIT_VAL[i] = rnn_memory\n",
    "        return X, Y, INIT_VAL\n",
    "    \n",
    "    def get_state(self, t):\n",
    "        window_size = self.window_size + 1\n",
    "        d = t - window_size + 1\n",
    "        block = self.trend[d : t + 1] if d >= 0 else -d * [self.trend[0]] + self.trend[0 : t + 1]\n",
    "        res = []\n",
    "        for i in range(window_size - 1):\n",
    "            res.append(block[i + 1] - block[i])\n",
    "        return np.array(res)\n",
    "    \n",
    "    def buy(self, initial_money):\n",
    "        starting_money = initial_money\n",
    "        states_sell = []\n",
    "        states_buy = []\n",
    "        inventory = []\n",
    "        state = self.get_state(0)\n",
    "        init_value = np.zeros((1, 2 * self.LAYER_SIZE))\n",
    "        for k in range(self.INITIAL_FEATURES.shape[0]):\n",
    "            self.INITIAL_FEATURES[k,:] = state\n",
    "        for t in range(0, len(self.trend) - 1, self.skip):\n",
    "            action, last_state = self.sess.run([self.logits,self.last_state],\n",
    "                                                feed_dict={self.X:[self.INITIAL_FEATURES],\n",
    "                                                            self.hidden_layer:init_value})\n",
    "            action, init_value = np.argmax(action[0]), last_state\n",
    "            next_state = self.get_state(t + 1)\n",
    "            \n",
    "            if action == 1 and initial_money >= self.trend[t]:\n",
    "                inventory.append(self.trend[t])\n",
    "                initial_money -= self.trend[t]\n",
    "                states_buy.append(t)\n",
    "                print('day %d: buy 1 unit at price %f, total balance %f'% (t, self.trend[t], initial_money))\n",
    "            \n",
    "            elif action == 2 and len(inventory):\n",
    "                bought_price = inventory.pop(0)\n",
    "                initial_money += self.trend[t]\n",
    "                states_sell.append(t)\n",
    "                try:\n",
    "                    invest = ((close[t] - bought_price) / bought_price) * 100\n",
    "                except:\n",
    "                    invest = 0\n",
    "                print(\n",
    "                    'day %d, sell 1 unit at price %f, investment %f %%, total balance %f,'\n",
    "                    % (t, close[t], invest, initial_money)\n",
    "                )\n",
    "            \n",
    "            new_state = np.append([self.get_state(t + 1)], self.INITIAL_FEATURES[:3, :], axis = 0)\n",
    "            self.INITIAL_FEATURES = new_state\n",
    "        invest = ((initial_money - starting_money) / starting_money) * 100\n",
    "        total_gains = initial_money - starting_money\n",
    "        return states_buy, states_sell, total_gains, invest\n",
    "            \n",
    "    \n",
    "    def train(self, iterations, checkpoint, initial_money):\n",
    "        for i in range(iterations):\n",
    "            total_profit = 0\n",
    "            inventory = []\n",
    "            state = self.get_state(0)\n",
    "            starting_money = initial_money\n",
    "            init_value = np.zeros((1, 2 * self.LAYER_SIZE))\n",
    "            for k in range(self.INITIAL_FEATURES.shape[0]):\n",
    "                self.INITIAL_FEATURES[k,:] = state\n",
    "            for t in range(0, len(self.trend) - 1, self.skip):\n",
    "                \n",
    "                if np.random.rand() < self.EPSILON:\n",
    "                    action = np.random.randint(self.OUTPUT_SIZE)\n",
    "                else:\n",
    "                    action, last_state = self.sess.run([self.logits,\n",
    "                                                  self.last_state],\n",
    "                                                  feed_dict={self.X:[self.INITIAL_FEATURES],\n",
    "                                                             self.hidden_layer:init_value})\n",
    "                    action, init_value = np.argmax(action[0]), last_state\n",
    "                    \n",
    "                next_state = self.get_state(t + 1)\n",
    "                \n",
    "                if action == 1 and starting_money >= self.trend[t]:\n",
    "                    inventory.append(self.trend[t])\n",
    "                    starting_money -= self.trend[t]\n",
    "                \n",
    "                elif action == 2 and len(inventory) > 0:\n",
    "                    bought_price = inventory.pop(0)\n",
    "                    total_profit += self.trend[t] - bought_price\n",
    "                    starting_money += self.trend[t]\n",
    "                    \n",
    "                invest = ((starting_money - initial_money) / initial_money)\n",
    "                new_state = np.append([self.get_state(t + 1)], self.INITIAL_FEATURES[:3, :], axis = 0)\n",
    "                self._memorize(self.INITIAL_FEATURES, action, invest, new_state, \n",
    "                               starting_money < initial_money, init_value[0])\n",
    "                self.INITIAL_FEATURES = new_state\n",
    "                batch_size = min(len(self.MEMORIES), self.BATCH_SIZE)\n",
    "                replay = random.sample(self.MEMORIES, batch_size)\n",
    "                X, Y, INIT_VAL = self._construct_memories(replay)\n",
    "                \n",
    "                cost, _ = self.sess.run([self.cost, self.optimizer], \n",
    "                                        feed_dict={self.X: X, self.Y:Y,\n",
    "                                                  self.hidden_layer: INIT_VAL})\n",
    "                self.EPSILON = self.MIN_EPSILON + (1.0 - self.MIN_EPSILON) * np.exp(-self.DECAY_RATE * i)\n",
    "                \n",
    "            if (i+1) % checkpoint == 0:\n",
    "                print('epoch: %d, total rewards: %f.3, cost: %f, total money: %f'%(i + 1, total_profit, cost,\n",
    "                                                                                  starting_money))"
   ]
  },
  {
   "cell_type": "code",
   "execution_count": null,
   "metadata": {
    "colab": {
     "base_uri": "https://localhost:8080/",
     "height": 591
    },
    "id": "geDMvtVqOK2e",
    "outputId": "689f1687-8509-4ff0-a3bb-eb7aa5c6ec74"
   },
   "outputs": [],
   "source": [
    "close = df.close.values.tolist()\n",
    "initial_money = 10000\n",
    "window_size = 30\n",
    "skip = 1\n",
    "batch_size = 32\n",
    "agent = Agent(state_size = window_size, \n",
    "              window_size = window_size, \n",
    "              trend = close, \n",
    "              skip = skip)\n",
    "agent.train(iterations = 200, checkpoint = 10, initial_money = initial_money)"
   ]
  },
  {
   "cell_type": "code",
   "execution_count": null,
   "metadata": {
    "colab": {
     "base_uri": "https://localhost:8080/",
     "height": 165
    },
    "id": "SCerem5yONU0",
    "outputId": "1f289db4-6fe4-44c7-b52c-37fa07f180f9"
   },
   "outputs": [],
   "source": [
    "states_buy, states_sell, total_gains, invest = agent.buy(initial_money = initial_money)"
   ]
  },
  {
   "cell_type": "code",
   "execution_count": null,
   "metadata": {
    "id": "Ld7_kzlEP4yI"
   },
   "outputs": [],
   "source": [
    "fig = plt.figure(figsize = (15,5))\n",
    "plt.plot(close, color='r', lw=2.)\n",
    "plt.plot(close, '^', markersize=10, color='m', label = 'buying signal', markevery = states_buy)\n",
    "plt.plot(close, 'v', markersize=10, color='k', label = 'selling signal', markevery = states_sell)\n",
    "plt.title('total gains %f, total investment %f%%'%(total_gains, invest))\n",
    "plt.legend()\n",
    "plt.show()"
   ]
  },
  {
   "cell_type": "code",
   "execution_count": null,
   "metadata": {},
   "outputs": [],
   "source": []
  }
 ],
 "metadata": {
  "colab": {
   "provenance": []
  },
  "kernelspec": {
   "display_name": "Python 3",
   "language": "python",
   "name": "python3"
  },
  "language_info": {
   "codemirror_mode": {
    "name": "ipython",
    "version": 3
   },
   "file_extension": ".py",
   "mimetype": "text/x-python",
   "name": "python",
   "nbconvert_exporter": "python",
   "pygments_lexer": "ipython3",
   "version": "3.8.5"
  }
 },
 "nbformat": 4,
 "nbformat_minor": 1
}
