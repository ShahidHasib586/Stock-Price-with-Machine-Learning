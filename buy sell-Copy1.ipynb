{
 "cells": [
  {
   "cell_type": "code",
   "execution_count": 1,
   "metadata": {
    "colab": {
     "base_uri": "https://localhost:8080/"
    },
    "id": "klU0_pAmvko_",
    "outputId": "5e97d1f2-5cc9-4cd1-acb5-150e193bca9f"
   },
   "outputs": [
    {
     "name": "stderr",
     "output_type": "stream",
     "text": [
      "<ipython-input-1-4f9ff3e37b68>:9: FutureWarning: The pandas.datetime class is deprecated and will be removed from pandas in a future version. Import from datetime module instead.\n",
      "  from pandas import datetime\n"
     ]
    }
   ],
   "source": [
    "import numpy as np # linear algebra\n",
    "import pandas as pd # data processing, CSV file I/O (e.g. pd.read_csv)\n",
    "import os\n",
    "from subprocess import check_output\n",
    "import seaborn as sns\n",
    "import matplotlib.pyplot as plt\n",
    "import warnings\n",
    "from pandas.plotting import lag_plot\n",
    "from pandas import datetime\n",
    "from statsmodels.tsa.arima_model import ARIMA\n",
    "from sklearn.metrics import mean_squared_error\n",
    "\n",
    "dataFrameFileLocation = \"ETH_hourly_data.csv\"\n",
    "# load all data\n",
    "df = pd.read_csv(dataFrameFileLocation,\n",
    "                # parse_dates=[[' Date', ' Time']],\n",
    "                 low_memory=False,\n",
    "                 na_values=[np.nan,'NA','?'])\n",
    "df.drop(columns= [\"Unnamed: 0\", \"index\",] , inplace= True)"
   ]
  },
  {
   "cell_type": "code",
   "execution_count": 2,
   "metadata": {
    "colab": {
     "base_uri": "https://localhost:8080/",
     "height": 847
    },
    "id": "jJ8uZzVBvqx6",
    "outputId": "e2057f38-c7ce-44cb-8322-f0b35c6c90d2"
   },
   "outputs": [
    {
     "name": "stdout",
     "output_type": "stream",
     "text": [
      "data Shape : (16778, 6)\n",
      "data type : \n",
      " date      float64\n",
      "open      float64\n",
      "high      float64\n",
      "low       float64\n",
      "close     float64\n",
      "volume    float64\n",
      "dtype: object\n",
      "data column : \n",
      " Index(['date', 'open', 'high', 'low', 'close', 'volume'], dtype='object')\n",
      "data describtion : \n",
      " <bound method NDFrame.describe of                date     open     high      low    close       volume\n",
      "0      1.592050e+12   235.89   236.11   235.00   235.49   9425.79290\n",
      "1      1.592050e+12   235.50   236.82   235.06   236.38  15799.02804\n",
      "2      1.592050e+12   236.38   236.56   235.61   236.33   7264.88729\n",
      "3      1.592060e+12   236.35   238.39   236.29   237.76  24624.57173\n",
      "4      1.592060e+12   237.78   238.05   236.98   237.12  10134.14025\n",
      "...             ...      ...      ...      ...      ...          ...\n",
      "16773  1.652500e+12  2023.24  2045.41  2014.67  2036.00  18628.66590\n",
      "16774  1.652510e+12  2036.00  2048.68  2027.24  2042.45  14366.44330\n",
      "16775  1.652510e+12  2042.46  2048.40  2028.33  2031.94  13378.50320\n",
      "16776  1.652520e+12  2031.94  2050.30  2027.66  2042.07  20804.81490\n",
      "16777  1.652520e+12  2042.06  2053.98  2020.42  2028.75  25843.32830\n",
      "\n",
      "[16778 rows x 6 columns]>\n"
     ]
    },
    {
     "data": {
      "text/html": [
       "<div>\n",
       "<style scoped>\n",
       "    .dataframe tbody tr th:only-of-type {\n",
       "        vertical-align: middle;\n",
       "    }\n",
       "\n",
       "    .dataframe tbody tr th {\n",
       "        vertical-align: top;\n",
       "    }\n",
       "\n",
       "    .dataframe thead th {\n",
       "        text-align: right;\n",
       "    }\n",
       "</style>\n",
       "<table border=\"1\" class=\"dataframe\">\n",
       "  <thead>\n",
       "    <tr style=\"text-align: right;\">\n",
       "      <th></th>\n",
       "      <th>date</th>\n",
       "      <th>open</th>\n",
       "      <th>high</th>\n",
       "      <th>low</th>\n",
       "      <th>close</th>\n",
       "      <th>volume</th>\n",
       "    </tr>\n",
       "  </thead>\n",
       "  <tbody>\n",
       "    <tr>\n",
       "      <th>0</th>\n",
       "      <td>1.592050e+12</td>\n",
       "      <td>235.89</td>\n",
       "      <td>236.11</td>\n",
       "      <td>235.00</td>\n",
       "      <td>235.49</td>\n",
       "      <td>9425.79290</td>\n",
       "    </tr>\n",
       "    <tr>\n",
       "      <th>1</th>\n",
       "      <td>1.592050e+12</td>\n",
       "      <td>235.50</td>\n",
       "      <td>236.82</td>\n",
       "      <td>235.06</td>\n",
       "      <td>236.38</td>\n",
       "      <td>15799.02804</td>\n",
       "    </tr>\n",
       "    <tr>\n",
       "      <th>2</th>\n",
       "      <td>1.592050e+12</td>\n",
       "      <td>236.38</td>\n",
       "      <td>236.56</td>\n",
       "      <td>235.61</td>\n",
       "      <td>236.33</td>\n",
       "      <td>7264.88729</td>\n",
       "    </tr>\n",
       "    <tr>\n",
       "      <th>3</th>\n",
       "      <td>1.592060e+12</td>\n",
       "      <td>236.35</td>\n",
       "      <td>238.39</td>\n",
       "      <td>236.29</td>\n",
       "      <td>237.76</td>\n",
       "      <td>24624.57173</td>\n",
       "    </tr>\n",
       "    <tr>\n",
       "      <th>4</th>\n",
       "      <td>1.592060e+12</td>\n",
       "      <td>237.78</td>\n",
       "      <td>238.05</td>\n",
       "      <td>236.98</td>\n",
       "      <td>237.12</td>\n",
       "      <td>10134.14025</td>\n",
       "    </tr>\n",
       "  </tbody>\n",
       "</table>\n",
       "</div>"
      ],
      "text/plain": [
       "           date    open    high     low   close       volume\n",
       "0  1.592050e+12  235.89  236.11  235.00  235.49   9425.79290\n",
       "1  1.592050e+12  235.50  236.82  235.06  236.38  15799.02804\n",
       "2  1.592050e+12  236.38  236.56  235.61  236.33   7264.88729\n",
       "3  1.592060e+12  236.35  238.39  236.29  237.76  24624.57173\n",
       "4  1.592060e+12  237.78  238.05  236.98  237.12  10134.14025"
      ]
     },
     "metadata": {},
     "output_type": "display_data"
    },
    {
     "data": {
      "text/html": [
       "<div>\n",
       "<style scoped>\n",
       "    .dataframe tbody tr th:only-of-type {\n",
       "        vertical-align: middle;\n",
       "    }\n",
       "\n",
       "    .dataframe tbody tr th {\n",
       "        vertical-align: top;\n",
       "    }\n",
       "\n",
       "    .dataframe thead th {\n",
       "        text-align: right;\n",
       "    }\n",
       "</style>\n",
       "<table border=\"1\" class=\"dataframe\">\n",
       "  <thead>\n",
       "    <tr style=\"text-align: right;\">\n",
       "      <th></th>\n",
       "      <th>date</th>\n",
       "      <th>open</th>\n",
       "      <th>high</th>\n",
       "      <th>low</th>\n",
       "      <th>close</th>\n",
       "      <th>volume</th>\n",
       "    </tr>\n",
       "  </thead>\n",
       "  <tbody>\n",
       "    <tr>\n",
       "      <th>16773</th>\n",
       "      <td>1.652500e+12</td>\n",
       "      <td>2023.24</td>\n",
       "      <td>2045.41</td>\n",
       "      <td>2014.67</td>\n",
       "      <td>2036.00</td>\n",
       "      <td>18628.6659</td>\n",
       "    </tr>\n",
       "    <tr>\n",
       "      <th>16774</th>\n",
       "      <td>1.652510e+12</td>\n",
       "      <td>2036.00</td>\n",
       "      <td>2048.68</td>\n",
       "      <td>2027.24</td>\n",
       "      <td>2042.45</td>\n",
       "      <td>14366.4433</td>\n",
       "    </tr>\n",
       "    <tr>\n",
       "      <th>16775</th>\n",
       "      <td>1.652510e+12</td>\n",
       "      <td>2042.46</td>\n",
       "      <td>2048.40</td>\n",
       "      <td>2028.33</td>\n",
       "      <td>2031.94</td>\n",
       "      <td>13378.5032</td>\n",
       "    </tr>\n",
       "    <tr>\n",
       "      <th>16776</th>\n",
       "      <td>1.652520e+12</td>\n",
       "      <td>2031.94</td>\n",
       "      <td>2050.30</td>\n",
       "      <td>2027.66</td>\n",
       "      <td>2042.07</td>\n",
       "      <td>20804.8149</td>\n",
       "    </tr>\n",
       "    <tr>\n",
       "      <th>16777</th>\n",
       "      <td>1.652520e+12</td>\n",
       "      <td>2042.06</td>\n",
       "      <td>2053.98</td>\n",
       "      <td>2020.42</td>\n",
       "      <td>2028.75</td>\n",
       "      <td>25843.3283</td>\n",
       "    </tr>\n",
       "  </tbody>\n",
       "</table>\n",
       "</div>"
      ],
      "text/plain": [
       "               date     open     high      low    close      volume\n",
       "16773  1.652500e+12  2023.24  2045.41  2014.67  2036.00  18628.6659\n",
       "16774  1.652510e+12  2036.00  2048.68  2027.24  2042.45  14366.4433\n",
       "16775  1.652510e+12  2042.46  2048.40  2028.33  2031.94  13378.5032\n",
       "16776  1.652520e+12  2031.94  2050.30  2027.66  2042.07  20804.8149\n",
       "16777  1.652520e+12  2042.06  2053.98  2020.42  2028.75  25843.3283"
      ]
     },
     "metadata": {},
     "output_type": "display_data"
    }
   ],
   "source": [
    "# Data Analysis commands\n",
    "\n",
    "print ( f\"data Shape : {df.shape}\")\n",
    "print ( f\"data type : \\n {df.dtypes}\")\n",
    "print ( f\"data column : \\n {df.columns}\")\n",
    "print ( f\"data describtion : \\n {df.describe}\")\n",
    "display(df.head(5))\n",
    "display(df.tail(5))\n"
   ]
  },
  {
   "cell_type": "code",
   "execution_count": 3,
   "metadata": {
    "colab": {
     "base_uri": "https://localhost:8080/",
     "height": 300
    },
    "id": "sSAGyb8Pw2Wg",
    "outputId": "b5c25d7f-67e4-43ab-a60d-959a9557435c"
   },
   "outputs": [
    {
     "data": {
      "text/html": [
       "<div>\n",
       "<style scoped>\n",
       "    .dataframe tbody tr th:only-of-type {\n",
       "        vertical-align: middle;\n",
       "    }\n",
       "\n",
       "    .dataframe tbody tr th {\n",
       "        vertical-align: top;\n",
       "    }\n",
       "\n",
       "    .dataframe thead th {\n",
       "        text-align: right;\n",
       "    }\n",
       "</style>\n",
       "<table border=\"1\" class=\"dataframe\">\n",
       "  <thead>\n",
       "    <tr style=\"text-align: right;\">\n",
       "      <th></th>\n",
       "      <th>date</th>\n",
       "      <th>open</th>\n",
       "      <th>high</th>\n",
       "      <th>low</th>\n",
       "      <th>close</th>\n",
       "      <th>volume</th>\n",
       "    </tr>\n",
       "  </thead>\n",
       "  <tbody>\n",
       "    <tr>\n",
       "      <th>count</th>\n",
       "      <td>1.677800e+04</td>\n",
       "      <td>16778.000000</td>\n",
       "      <td>16778.000000</td>\n",
       "      <td>16778.000000</td>\n",
       "      <td>16778.000000</td>\n",
       "      <td>16778.000000</td>\n",
       "    </tr>\n",
       "    <tr>\n",
       "      <th>mean</th>\n",
       "      <td>1.622291e+12</td>\n",
       "      <td>2119.478009</td>\n",
       "      <td>2134.271224</td>\n",
       "      <td>2103.466555</td>\n",
       "      <td>2119.582944</td>\n",
       "      <td>33901.192745</td>\n",
       "    </tr>\n",
       "    <tr>\n",
       "      <th>std</th>\n",
       "      <td>1.746250e+10</td>\n",
       "      <td>1332.625161</td>\n",
       "      <td>1340.570123</td>\n",
       "      <td>1324.080673</td>\n",
       "      <td>1332.547198</td>\n",
       "      <td>32151.450280</td>\n",
       "    </tr>\n",
       "    <tr>\n",
       "      <th>min</th>\n",
       "      <td>1.592050e+12</td>\n",
       "      <td>217.810000</td>\n",
       "      <td>220.140000</td>\n",
       "      <td>216.000000</td>\n",
       "      <td>217.840000</td>\n",
       "      <td>0.000000</td>\n",
       "    </tr>\n",
       "    <tr>\n",
       "      <th>25%</th>\n",
       "      <td>1.607160e+12</td>\n",
       "      <td>585.515000</td>\n",
       "      <td>588.637500</td>\n",
       "      <td>582.232500</td>\n",
       "      <td>585.612500</td>\n",
       "      <td>14854.433380</td>\n",
       "    </tr>\n",
       "    <tr>\n",
       "      <th>50%</th>\n",
       "      <td>1.622300e+12</td>\n",
       "      <td>2282.605000</td>\n",
       "      <td>2303.845000</td>\n",
       "      <td>2255.315000</td>\n",
       "      <td>2282.610000</td>\n",
       "      <td>24495.213250</td>\n",
       "    </tr>\n",
       "    <tr>\n",
       "      <th>75%</th>\n",
       "      <td>1.637420e+12</td>\n",
       "      <td>3157.267500</td>\n",
       "      <td>3176.197500</td>\n",
       "      <td>3137.350000</td>\n",
       "      <td>3157.257500</td>\n",
       "      <td>41062.288392</td>\n",
       "    </tr>\n",
       "    <tr>\n",
       "      <th>max</th>\n",
       "      <td>1.652520e+12</td>\n",
       "      <td>4846.940000</td>\n",
       "      <td>4868.000000</td>\n",
       "      <td>4833.190000</td>\n",
       "      <td>4846.710000</td>\n",
       "      <td>493227.882800</td>\n",
       "    </tr>\n",
       "  </tbody>\n",
       "</table>\n",
       "</div>"
      ],
      "text/plain": [
       "               date          open          high           low         close  \\\n",
       "count  1.677800e+04  16778.000000  16778.000000  16778.000000  16778.000000   \n",
       "mean   1.622291e+12   2119.478009   2134.271224   2103.466555   2119.582944   \n",
       "std    1.746250e+10   1332.625161   1340.570123   1324.080673   1332.547198   \n",
       "min    1.592050e+12    217.810000    220.140000    216.000000    217.840000   \n",
       "25%    1.607160e+12    585.515000    588.637500    582.232500    585.612500   \n",
       "50%    1.622300e+12   2282.605000   2303.845000   2255.315000   2282.610000   \n",
       "75%    1.637420e+12   3157.267500   3176.197500   3137.350000   3157.257500   \n",
       "max    1.652520e+12   4846.940000   4868.000000   4833.190000   4846.710000   \n",
       "\n",
       "              volume  \n",
       "count   16778.000000  \n",
       "mean    33901.192745  \n",
       "std     32151.450280  \n",
       "min         0.000000  \n",
       "25%     14854.433380  \n",
       "50%     24495.213250  \n",
       "75%     41062.288392  \n",
       "max    493227.882800  "
      ]
     },
     "execution_count": 3,
     "metadata": {},
     "output_type": "execute_result"
    }
   ],
   "source": [
    "df.describe()"
   ]
  },
  {
   "cell_type": "code",
   "execution_count": 4,
   "metadata": {
    "colab": {
     "base_uri": "https://localhost:8080/"
    },
    "id": "D0vCpRZxxGJ0",
    "outputId": "2da130ed-4ab9-4628-e5be-c7ab4b4cd66e"
   },
   "outputs": [
    {
     "name": "stdout",
     "output_type": "stream",
     "text": [
      "<class 'pandas.core.frame.DataFrame'>\n",
      "RangeIndex: 16778 entries, 0 to 16777\n",
      "Data columns (total 6 columns):\n",
      " #   Column  Non-Null Count  Dtype  \n",
      "---  ------  --------------  -----  \n",
      " 0   date    16778 non-null  float64\n",
      " 1   open    16778 non-null  float64\n",
      " 2   high    16778 non-null  float64\n",
      " 3   low     16778 non-null  float64\n",
      " 4   close   16778 non-null  float64\n",
      " 5   volume  16778 non-null  float64\n",
      "dtypes: float64(6)\n",
      "memory usage: 786.6 KB\n"
     ]
    }
   ],
   "source": [
    "df.info()"
   ]
  },
  {
   "cell_type": "code",
   "execution_count": 5,
   "metadata": {
    "colab": {
     "base_uri": "https://localhost:8080/",
     "height": 410
    },
    "id": "9xtNaVs5yO2V",
    "outputId": "bd10ec18-ee26-47e6-fb3f-a171131d05c0"
   },
   "outputs": [
    {
     "data": {
      "text/plain": [
       "Text(0.5, 1.0, 'Stock Cumulative Returns')"
      ]
     },
     "execution_count": 5,
     "metadata": {},
     "output_type": "execute_result"
    },
    {
     "data": {
      "image/png": "[encoded data removed]",
      "text/plain": [
       "<Figure size 432x288 with 1 Axes>"
      ]
     },
     "metadata": {
      "needs_background": "light"
     },
     "output_type": "display_data"
    }
   ],
   "source": [
    "# Comulative Return\n",
    "dd = pd.read_csv(dataFrameFileLocation,\n",
    "                 low_memory=False,\n",
    "                 na_values=[np.nan,'NA','?'])\n",
    "dd.drop(columns= [\"Unnamed: 0\", \"index\",\"date\"] , inplace= True)\n",
    "dr = dd.cumsum()\n",
    "dr.plot()\n",
    "plt.title('Stock Cumulative Returns')"
   ]
  },
  {
   "cell_type": "code",
   "execution_count": 6,
   "metadata": {
    "colab": {
     "base_uri": "https://localhost:8080/",
     "height": 682
    },
    "id": "RS2jKWlZz70D",
    "outputId": "941bc448-403e-47e5-a69e-c4ea2eae619b"
   },
   "outputs": [
    {
     "data": {
      "text/plain": [
       "Text(0.5, 1.0, 'Stock Autocorrelation plot')"
      ]
     },
     "execution_count": 6,
     "metadata": {},
     "output_type": "execute_result"
    },
    {
     "data": {
      "image/png": "[encoded data removed]",
      "text/plain": [
       "<Figure size 720x720 with 1 Axes>"
      ]
     },
     "metadata": {
      "needs_background": "light"
     },
     "output_type": "display_data"
    }
   ],
   "source": [
    "plt.figure(figsize=(10,10))\n",
    "lag_plot(df['open'], lag=5)\n",
    "plt.title('Stock Autocorrelation plot')"
   ]
  },
  {
   "cell_type": "code",
   "execution_count": 7,
   "metadata": {},
   "outputs": [
    {
     "data": {
      "text/plain": [
       "date      False\n",
       "open      False\n",
       "high      False\n",
       "low       False\n",
       "close     False\n",
       "volume    False\n",
       "dtype: bool"
      ]
     },
     "execution_count": 7,
     "metadata": {},
     "output_type": "execute_result"
    }
   ],
   "source": [
    "df.isna().any()"
   ]
  },
  {
   "cell_type": "code",
   "execution_count": 8,
   "metadata": {
    "colab": {
     "base_uri": "https://localhost:8080/",
     "height": 481
    },
    "id": "zgk-RekR6bnO",
    "outputId": "ab609faf-fad3-4a27-d580-a26fc9bc15a4"
   },
   "outputs": [
    {
     "data": {
      "text/plain": [
       "<matplotlib.legend.Legend at 0x18248d98910>"
      ]
     },
     "execution_count": 8,
     "metadata": {},
     "output_type": "execute_result"
    },
    {
     "data": {
      "image/png": "[encoded data removed]",
      "text/plain": [
       "<Figure size 864x504 with 1 Axes>"
      ]
     },
     "metadata": {
      "needs_background": "light"
     },
     "output_type": "display_data"
    }
   ],
   "source": [
    "train_data, test_data = df[0:int(len(df)*0.8)], df[int(len(df)*0.8):]\n",
    "plt.figure(figsize=(12,7))\n",
    "plt.title('Tesla Prices')\n",
    "plt.xlabel('Dates')\n",
    "plt.ylabel('Prices')\n",
    "plt.plot(df['open'], 'blue', label='Training Data')\n",
    "plt.plot(test_data['open'], 'green', label='Testing Data')\n",
    "plt.legend()"
   ]
  },
  {
   "cell_type": "code",
   "execution_count": 9,
   "metadata": {},
   "outputs": [
    {
     "data": {
      "text/html": [
       "<div>\n",
       "<style scoped>\n",
       "    .dataframe tbody tr th:only-of-type {\n",
       "        vertical-align: middle;\n",
       "    }\n",
       "\n",
       "    .dataframe tbody tr th {\n",
       "        vertical-align: top;\n",
       "    }\n",
       "\n",
       "    .dataframe thead th {\n",
       "        text-align: right;\n",
       "    }\n",
       "</style>\n",
       "<table border=\"1\" class=\"dataframe\">\n",
       "  <thead>\n",
       "    <tr style=\"text-align: right;\">\n",
       "      <th></th>\n",
       "      <th>date</th>\n",
       "      <th>open</th>\n",
       "      <th>high</th>\n",
       "      <th>low</th>\n",
       "      <th>close</th>\n",
       "      <th>volume</th>\n",
       "    </tr>\n",
       "  </thead>\n",
       "  <tbody>\n",
       "    <tr>\n",
       "      <th>0</th>\n",
       "      <td>NaN</td>\n",
       "      <td>NaN</td>\n",
       "      <td>NaN</td>\n",
       "      <td>NaN</td>\n",
       "      <td>NaN</td>\n",
       "      <td>NaN</td>\n",
       "    </tr>\n",
       "    <tr>\n",
       "      <th>1</th>\n",
       "      <td>NaN</td>\n",
       "      <td>NaN</td>\n",
       "      <td>NaN</td>\n",
       "      <td>NaN</td>\n",
       "      <td>NaN</td>\n",
       "      <td>NaN</td>\n",
       "    </tr>\n",
       "    <tr>\n",
       "      <th>2</th>\n",
       "      <td>NaN</td>\n",
       "      <td>NaN</td>\n",
       "      <td>NaN</td>\n",
       "      <td>NaN</td>\n",
       "      <td>NaN</td>\n",
       "      <td>NaN</td>\n",
       "    </tr>\n",
       "    <tr>\n",
       "      <th>3</th>\n",
       "      <td>NaN</td>\n",
       "      <td>NaN</td>\n",
       "      <td>NaN</td>\n",
       "      <td>NaN</td>\n",
       "      <td>NaN</td>\n",
       "      <td>NaN</td>\n",
       "    </tr>\n",
       "    <tr>\n",
       "      <th>4</th>\n",
       "      <td>NaN</td>\n",
       "      <td>NaN</td>\n",
       "      <td>NaN</td>\n",
       "      <td>NaN</td>\n",
       "      <td>NaN</td>\n",
       "      <td>NaN</td>\n",
       "    </tr>\n",
       "    <tr>\n",
       "      <th>5</th>\n",
       "      <td>NaN</td>\n",
       "      <td>NaN</td>\n",
       "      <td>NaN</td>\n",
       "      <td>NaN</td>\n",
       "      <td>NaN</td>\n",
       "      <td>NaN</td>\n",
       "    </tr>\n",
       "    <tr>\n",
       "      <th>6</th>\n",
       "      <td>1.592057e+12</td>\n",
       "      <td>236.605714</td>\n",
       "      <td>237.315714</td>\n",
       "      <td>236.052857</td>\n",
       "      <td>236.765714</td>\n",
       "      <td>12080.816696</td>\n",
       "    </tr>\n",
       "    <tr>\n",
       "      <th>7</th>\n",
       "      <td>1.592060e+12</td>\n",
       "      <td>236.768571</td>\n",
       "      <td>237.571429</td>\n",
       "      <td>236.342857</td>\n",
       "      <td>237.042857</td>\n",
       "      <td>11720.411791</td>\n",
       "    </tr>\n",
       "    <tr>\n",
       "      <th>8</th>\n",
       "      <td>1.592063e+12</td>\n",
       "      <td>237.045714</td>\n",
       "      <td>237.844286</td>\n",
       "      <td>236.492857</td>\n",
       "      <td>237.110000</td>\n",
       "      <td>12311.435097</td>\n",
       "    </tr>\n",
       "    <tr>\n",
       "      <th>9</th>\n",
       "      <td>1.592067e+12</td>\n",
       "      <td>237.108571</td>\n",
       "      <td>237.997143</td>\n",
       "      <td>236.520000</td>\n",
       "      <td>237.207143</td>\n",
       "      <td>13137.405569</td>\n",
       "    </tr>\n",
       "    <tr>\n",
       "      <th>10</th>\n",
       "      <td>1.592070e+12</td>\n",
       "      <td>237.202857</td>\n",
       "      <td>237.881429</td>\n",
       "      <td>236.600000</td>\n",
       "      <td>237.138571</td>\n",
       "      <td>10316.296254</td>\n",
       "    </tr>\n",
       "    <tr>\n",
       "      <th>11</th>\n",
       "      <td>1.592074e+12</td>\n",
       "      <td>237.132857</td>\n",
       "      <td>237.874286</td>\n",
       "      <td>236.637143</td>\n",
       "      <td>237.261429</td>\n",
       "      <td>9991.461923</td>\n",
       "    </tr>\n",
       "    <tr>\n",
       "      <th>12</th>\n",
       "      <td>1.592079e+12</td>\n",
       "      <td>237.252857</td>\n",
       "      <td>237.985714</td>\n",
       "      <td>236.824286</td>\n",
       "      <td>237.388571</td>\n",
       "      <td>9853.403187</td>\n",
       "    </tr>\n",
       "    <tr>\n",
       "      <th>13</th>\n",
       "      <td>1.592081e+12</td>\n",
       "      <td>237.384286</td>\n",
       "      <td>238.080000</td>\n",
       "      <td>236.881429</td>\n",
       "      <td>237.480000</td>\n",
       "      <td>9909.669007</td>\n",
       "    </tr>\n",
       "    <tr>\n",
       "      <th>14</th>\n",
       "      <td>1.592086e+12</td>\n",
       "      <td>237.478571</td>\n",
       "      <td>238.080000</td>\n",
       "      <td>236.911429</td>\n",
       "      <td>237.485714</td>\n",
       "      <td>9781.458630</td>\n",
       "    </tr>\n",
       "    <tr>\n",
       "      <th>15</th>\n",
       "      <td>1.592090e+12</td>\n",
       "      <td>237.485714</td>\n",
       "      <td>238.060000</td>\n",
       "      <td>237.107143</td>\n",
       "      <td>237.657143</td>\n",
       "      <td>8775.752964</td>\n",
       "    </tr>\n",
       "    <tr>\n",
       "      <th>16</th>\n",
       "      <td>1.592093e+12</td>\n",
       "      <td>237.662857</td>\n",
       "      <td>238.122857</td>\n",
       "      <td>237.350000</td>\n",
       "      <td>237.750000</td>\n",
       "      <td>7666.099146</td>\n",
       "    </tr>\n",
       "    <tr>\n",
       "      <th>17</th>\n",
       "      <td>1.592097e+12</td>\n",
       "      <td>237.757143</td>\n",
       "      <td>238.164286</td>\n",
       "      <td>237.377143</td>\n",
       "      <td>237.731429</td>\n",
       "      <td>7752.995236</td>\n",
       "    </tr>\n",
       "    <tr>\n",
       "      <th>18</th>\n",
       "      <td>1.592100e+12</td>\n",
       "      <td>237.742857</td>\n",
       "      <td>238.098571</td>\n",
       "      <td>237.171429</td>\n",
       "      <td>237.520000</td>\n",
       "      <td>8489.130450</td>\n",
       "    </tr>\n",
       "    <tr>\n",
       "      <th>19</th>\n",
       "      <td>1.592103e+12</td>\n",
       "      <td>237.532857</td>\n",
       "      <td>237.852857</td>\n",
       "      <td>236.581429</td>\n",
       "      <td>237.010000</td>\n",
       "      <td>10569.068643</td>\n",
       "    </tr>\n",
       "  </tbody>\n",
       "</table>\n",
       "</div>"
      ],
      "text/plain": [
       "            date        open        high         low       close        volume\n",
       "0            NaN         NaN         NaN         NaN         NaN           NaN\n",
       "1            NaN         NaN         NaN         NaN         NaN           NaN\n",
       "2            NaN         NaN         NaN         NaN         NaN           NaN\n",
       "3            NaN         NaN         NaN         NaN         NaN           NaN\n",
       "4            NaN         NaN         NaN         NaN         NaN           NaN\n",
       "5            NaN         NaN         NaN         NaN         NaN           NaN\n",
       "6   1.592057e+12  236.605714  237.315714  236.052857  236.765714  12080.816696\n",
       "7   1.592060e+12  236.768571  237.571429  236.342857  237.042857  11720.411791\n",
       "8   1.592063e+12  237.045714  237.844286  236.492857  237.110000  12311.435097\n",
       "9   1.592067e+12  237.108571  237.997143  236.520000  237.207143  13137.405569\n",
       "10  1.592070e+12  237.202857  237.881429  236.600000  237.138571  10316.296254\n",
       "11  1.592074e+12  237.132857  237.874286  236.637143  237.261429   9991.461923\n",
       "12  1.592079e+12  237.252857  237.985714  236.824286  237.388571   9853.403187\n",
       "13  1.592081e+12  237.384286  238.080000  236.881429  237.480000   9909.669007\n",
       "14  1.592086e+12  237.478571  238.080000  236.911429  237.485714   9781.458630\n",
       "15  1.592090e+12  237.485714  238.060000  237.107143  237.657143   8775.752964\n",
       "16  1.592093e+12  237.662857  238.122857  237.350000  237.750000   7666.099146\n",
       "17  1.592097e+12  237.757143  238.164286  237.377143  237.731429   7752.995236\n",
       "18  1.592100e+12  237.742857  238.098571  237.171429  237.520000   8489.130450\n",
       "19  1.592103e+12  237.532857  237.852857  236.581429  237.010000  10569.068643"
      ]
     },
     "execution_count": 9,
     "metadata": {},
     "output_type": "execute_result"
    }
   ],
   "source": [
    "#df[\"close\"] = df[\"close\"].str.replace(',','').astype(float)\n",
    "df.rolling(7).mean().head(20)"
   ]
  },
  {
   "cell_type": "code",
   "execution_count": 10,
   "metadata": {},
   "outputs": [
    {
     "data": {
      "text/plain": [
       "<AxesSubplot:>"
      ]
     },
     "execution_count": 10,
     "metadata": {},
     "output_type": "execute_result"
    },
    {
     "data": {
      "image/png": "[encoded data removed]",
      "text/plain": [
       "<Figure size 1152x432 with 1 Axes>"
      ]
     },
     "metadata": {
      "needs_background": "light"
     },
     "output_type": "display_data"
    }
   ],
   "source": [
    "df['open'].plot(figsize=(16,6))\n",
    "df.rolling(window=30).mean()[\"close\"].plot()\n",
    "#moving average of past 30 days"
   ]
  },
  {
   "cell_type": "code",
   "execution_count": 11,
   "metadata": {},
   "outputs": [],
   "source": [
    "df1=df.reset_index()[\"close\"]"
   ]
  },
  {
   "cell_type": "code",
   "execution_count": 12,
   "metadata": {},
   "outputs": [
    {
     "data": {
      "text/plain": [
       "(16778,)"
      ]
     },
     "execution_count": 12,
     "metadata": {},
     "output_type": "execute_result"
    }
   ],
   "source": [
    "df1.shape"
   ]
  },
  {
   "cell_type": "code",
   "execution_count": 13,
   "metadata": {
    "scrolled": true
   },
   "outputs": [
    {
     "data": {
      "text/plain": [
       "[<matplotlib.lines.Line2D at 0x18248e25910>]"
      ]
     },
     "execution_count": 13,
     "metadata": {},
     "output_type": "execute_result"
    },
    {
     "data": {
      "image/png": "[encoded data removed]",
      "text/plain": [
       "<Figure size 432x288 with 1 Axes>"
      ]
     },
     "metadata": {
      "needs_background": "light"
     },
     "output_type": "display_data"
    }
   ],
   "source": [
    "import matplotlib.pyplot as plt\n",
    "plt.plot(df1)"
   ]
  },
  {
   "cell_type": "code",
   "execution_count": 14,
   "metadata": {},
   "outputs": [],
   "source": [
    "import numpy as np\n",
    "from sklearn.preprocessing import MinMaxScaler\n",
    "scaler=MinMaxScaler(feature_range=(0,1))\n",
    "df1=scaler.fit_transform(np.array(df1).reshape(-1,1))"
   ]
  },
  {
   "cell_type": "code",
   "execution_count": 15,
   "metadata": {},
   "outputs": [
    {
     "data": {
      "text/plain": [
       "(16778, 1)"
      ]
     },
     "execution_count": 15,
     "metadata": {},
     "output_type": "execute_result"
    }
   ],
   "source": [
    "df1.shape"
   ]
  },
  {
   "cell_type": "code",
   "execution_count": 16,
   "metadata": {},
   "outputs": [],
   "source": [
    "training_size=int(len(df1)*0.65)\n",
    "test_size=len(df1)-training_size\n",
    "train_data,test_data=df1[0:training_size,:],df1[training_size:len(df1),:1]"
   ]
  },
  {
   "cell_type": "code",
   "execution_count": 17,
   "metadata": {},
   "outputs": [
    {
     "data": {
      "text/plain": [
       "(10905, 5873)"
      ]
     },
     "execution_count": 17,
     "metadata": {},
     "output_type": "execute_result"
    }
   ],
   "source": [
    "training_size, test_size"
   ]
  },
  {
   "cell_type": "code",
   "execution_count": 18,
   "metadata": {},
   "outputs": [],
   "source": [
    "import numpy\n",
    "# convert an array of values into a dataset matrix\n",
    "def create_dataset(dataset, time_step=1):\n",
    "    dataX, dataY = [], []\n",
    "    for i in range(len(dataset)-time_step-1):\n",
    "        a = dataset[i:(i+time_step), 0]   ###i=0, X=0,1,2,3-----99   Y=100 \n",
    "        dataX.append(a)\n",
    "        dataY.append(dataset[i + time_step, 0])\n",
    "    return numpy.array(dataX), numpy.array(dataY)"
   ]
  },
  {
   "cell_type": "code",
   "execution_count": 19,
   "metadata": {},
   "outputs": [],
   "source": [
    "# reshape into X=t,t+1,t+2..t+99 and Y=t+100\n",
    "\n",
    "time_step = 100\n",
    "x_train, y_train = create_dataset(train_data, time_step)\n",
    "x_test, y_test = create_dataset(test_data, time_step)"
   ]
  },
  {
   "cell_type": "code",
   "execution_count": 20,
   "metadata": {},
   "outputs": [
    {
     "name": "stdout",
     "output_type": "stream",
     "text": [
      "(10804, 100)\n",
      "(10804,)\n"
     ]
    },
    {
     "data": {
      "text/plain": [
       "(None, None)"
      ]
     },
     "execution_count": 20,
     "metadata": {},
     "output_type": "execute_result"
    }
   ],
   "source": [
    "print(x_train.shape), print(y_train.shape)"
   ]
  },
  {
   "cell_type": "code",
   "execution_count": 22,
   "metadata": {},
   "outputs": [],
   "source": [
    "# reshape input to be [samples, time steps, features] which is required for LSTM\n",
    "x_train =x_train.reshape(x_train.shape[0],x_train.shape[1] , 1)\n",
    "x_test = x_test.reshape(x_test.shape[0],x_test.shape[1] , 1)"
   ]
  },
  {
   "cell_type": "code",
   "execution_count": 23,
   "metadata": {},
   "outputs": [
    {
     "name": "stdout",
     "output_type": "stream",
     "text": [
      "(5772, 100, 1)\n",
      "(5772,)\n"
     ]
    },
    {
     "data": {
      "text/plain": [
       "(None, None)"
      ]
     },
     "execution_count": 23,
     "metadata": {},
     "output_type": "execute_result"
    }
   ],
   "source": [
    "print(x_test.shape), print(y_test.shape)"
   ]
  },
  {
   "cell_type": "code",
   "execution_count": 24,
   "metadata": {},
   "outputs": [],
   "source": [
    "### Create the Stacked LSTM model\n",
    "from tensorflow.keras.models import Sequential\n",
    "from tensorflow.keras.layers import Dense\n",
    "from tensorflow.keras.layers import LSTM"
   ]
  },
  {
   "cell_type": "code",
   "execution_count": 25,
   "metadata": {},
   "outputs": [],
   "source": [
    "model=Sequential()\n",
    "model.add(LSTM(50,return_sequences=True,input_shape=(100,1)))\n",
    "model.add(LSTM(50,return_sequences=True))\n",
    "model.add(LSTM(50))\n",
    "model.add(Dense(1))\n",
    "model.compile(loss='mean_squared_error',optimizer='adam')"
   ]
  },
  {
   "cell_type": "code",
   "execution_count": 26,
   "metadata": {},
   "outputs": [
    {
     "name": "stdout",
     "output_type": "stream",
     "text": [
      "Model: \"sequential\"\n",
      "_________________________________________________________________\n",
      " Layer (type)                Output Shape              Param #   \n",
      "=================================================================\n",
      " lstm (LSTM)                 (None, 100, 50)           10400     \n",
      "                                                                 \n",
      " lstm_1 (LSTM)               (None, 100, 50)           20200     \n",
      "                                                                 \n",
      " lstm_2 (LSTM)               (None, 50)                20200     \n",
      "                                                                 \n",
      " dense (Dense)               (None, 1)                 51        \n",
      "                                                                 \n",
      "=================================================================\n",
      "Total params: 50,851\n",
      "Trainable params: 50,851\n",
      "Non-trainable params: 0\n",
      "_________________________________________________________________\n"
     ]
    }
   ],
   "source": [
    "model.summary()"
   ]
  },
  {
   "cell_type": "code",
   "execution_count": 27,
   "metadata": {
    "scrolled": true
   },
   "outputs": [
    {
     "name": "stdout",
     "output_type": "stream",
     "text": [
      "Epoch 1/100\n",
      "169/169 [==============================] - 84s 406ms/step - loss: 0.0023 - val_loss: 4.9811e-04\n",
      "Epoch 2/100\n",
      "169/169 [==============================] - 70s 417ms/step - loss: 2.2126e-04 - val_loss: 5.2868e-04\n",
      "Epoch 3/100\n",
      "169/169 [==============================] - 60s 354ms/step - loss: 1.8574e-04 - val_loss: 3.3570e-04\n",
      "Epoch 4/100\n",
      "169/169 [==============================] - 63s 373ms/step - loss: 1.8132e-04 - val_loss: 2.5988e-04\n",
      "Epoch 5/100\n",
      "169/169 [==============================] - 65s 386ms/step - loss: 1.5574e-04 - val_loss: 2.4988e-04\n",
      "Epoch 6/100\n",
      "169/169 [==============================] - 64s 379ms/step - loss: 1.4137e-04 - val_loss: 2.3311e-04\n",
      "Epoch 7/100\n",
      "169/169 [==============================] - 65s 386ms/step - loss: 1.3552e-04 - val_loss: 4.8700e-04\n",
      "Epoch 8/100\n",
      "169/169 [==============================] - 64s 380ms/step - loss: 1.0403e-04 - val_loss: 1.5509e-04\n",
      "Epoch 9/100\n",
      "169/169 [==============================] - 65s 383ms/step - loss: 1.0069e-04 - val_loss: 1.5363e-04\n",
      "Epoch 10/100\n",
      "169/169 [==============================] - 62s 370ms/step - loss: 1.0165e-04 - val_loss: 1.4921e-04\n",
      "Epoch 11/100\n",
      "169/169 [==============================] - 63s 372ms/step - loss: 9.9793e-05 - val_loss: 1.7304e-04\n",
      "Epoch 12/100\n",
      "169/169 [==============================] - 63s 371ms/step - loss: 8.9437e-05 - val_loss: 1.4246e-04\n",
      "Epoch 13/100\n",
      "169/169 [==============================] - 63s 376ms/step - loss: 8.4523e-05 - val_loss: 3.0558e-04\n",
      "Epoch 14/100\n",
      "169/169 [==============================] - 64s 377ms/step - loss: 8.8480e-05 - val_loss: 1.1239e-04\n",
      "Epoch 15/100\n",
      "169/169 [==============================] - 64s 376ms/step - loss: 9.8587e-05 - val_loss: 1.7989e-04\n",
      "Epoch 16/100\n",
      "169/169 [==============================] - 64s 379ms/step - loss: 7.5291e-05 - val_loss: 9.5057e-05\n",
      "Epoch 17/100\n",
      "169/169 [==============================] - 63s 375ms/step - loss: 9.1661e-05 - val_loss: 1.0246e-04\n",
      "Epoch 18/100\n",
      "169/169 [==============================] - 63s 376ms/step - loss: 7.5515e-05 - val_loss: 8.6549e-05\n",
      "Epoch 19/100\n",
      "169/169 [==============================] - 63s 373ms/step - loss: 6.8936e-05 - val_loss: 8.6333e-05\n",
      "Epoch 20/100\n",
      "169/169 [==============================] - 62s 366ms/step - loss: 6.6507e-05 - val_loss: 1.2223e-04\n",
      "Epoch 21/100\n",
      "169/169 [==============================] - 63s 372ms/step - loss: 6.4897e-05 - val_loss: 7.1409e-05\n",
      "Epoch 22/100\n",
      "169/169 [==============================] - 64s 382ms/step - loss: 6.1847e-05 - val_loss: 6.4766e-05\n",
      "Epoch 23/100\n",
      "169/169 [==============================] - 70s 412ms/step - loss: 5.7937e-05 - val_loss: 6.2522e-05\n",
      "Epoch 24/100\n",
      "169/169 [==============================] - 67s 396ms/step - loss: 5.2654e-05 - val_loss: 1.7914e-04\n",
      "Epoch 25/100\n",
      "169/169 [==============================] - 68s 404ms/step - loss: 6.2142e-05 - val_loss: 6.8330e-05\n",
      "Epoch 26/100\n",
      "169/169 [==============================] - 68s 404ms/step - loss: 5.0023e-05 - val_loss: 6.6662e-05\n",
      "Epoch 27/100\n",
      "169/169 [==============================] - 68s 401ms/step - loss: 4.2464e-05 - val_loss: 6.2823e-05\n",
      "Epoch 28/100\n",
      "169/169 [==============================] - 68s 400ms/step - loss: 4.9977e-05 - val_loss: 5.8255e-05\n",
      "Epoch 29/100\n",
      "169/169 [==============================] - 66s 392ms/step - loss: 4.3411e-05 - val_loss: 5.3022e-05\n",
      "Epoch 30/100\n",
      "169/169 [==============================] - 66s 393ms/step - loss: 4.4669e-05 - val_loss: 4.5385e-05\n",
      "Epoch 31/100\n",
      "169/169 [==============================] - 66s 394ms/step - loss: 5.1034e-05 - val_loss: 4.0610e-05\n",
      "Epoch 32/100\n",
      "169/169 [==============================] - 67s 395ms/step - loss: 3.8684e-05 - val_loss: 7.3329e-05\n",
      "Epoch 33/100\n",
      "169/169 [==============================] - 68s 405ms/step - loss: 3.9904e-05 - val_loss: 5.9748e-05\n",
      "Epoch 34/100\n",
      "169/169 [==============================] - 68s 401ms/step - loss: 3.4531e-05 - val_loss: 4.4728e-05\n",
      "Epoch 35/100\n",
      "169/169 [==============================] - 67s 395ms/step - loss: 3.1882e-05 - val_loss: 1.1746e-04\n",
      "Epoch 36/100\n",
      "169/169 [==============================] - 68s 403ms/step - loss: 3.5899e-05 - val_loss: 1.1558e-04\n",
      "Epoch 37/100\n",
      "169/169 [==============================] - 62s 368ms/step - loss: 3.7007e-05 - val_loss: 7.0210e-05\n",
      "Epoch 38/100\n",
      "169/169 [==============================] - 62s 365ms/step - loss: 3.8230e-05 - val_loss: 6.8665e-05\n",
      "Epoch 39/100\n",
      "169/169 [==============================] - 62s 369ms/step - loss: 3.6788e-05 - val_loss: 4.0125e-05\n",
      "Epoch 40/100\n",
      "169/169 [==============================] - 64s 376ms/step - loss: 3.5435e-05 - val_loss: 8.6455e-05\n",
      "Epoch 41/100\n",
      "169/169 [==============================] - 63s 375ms/step - loss: 3.5748e-05 - val_loss: 4.8114e-05\n",
      "Epoch 42/100\n",
      "169/169 [==============================] - 64s 377ms/step - loss: 3.3159e-05 - val_loss: 4.7220e-05\n",
      "Epoch 43/100\n",
      "169/169 [==============================] - 64s 380ms/step - loss: 3.0259e-05 - val_loss: 6.3397e-05\n",
      "Epoch 44/100\n",
      "169/169 [==============================] - 63s 375ms/step - loss: 4.6824e-05 - val_loss: 4.3097e-05\n",
      "Epoch 45/100\n",
      "169/169 [==============================] - 65s 385ms/step - loss: 3.1782e-05 - val_loss: 4.1461e-05\n",
      "Epoch 46/100\n",
      "169/169 [==============================] - 63s 371ms/step - loss: 3.1804e-05 - val_loss: 4.6966e-05\n",
      "Epoch 47/100\n",
      "169/169 [==============================] - 63s 372ms/step - loss: 3.4055e-05 - val_loss: 4.0050e-05\n",
      "Epoch 48/100\n",
      "169/169 [==============================] - 61s 362ms/step - loss: 4.6806e-05 - val_loss: 6.8514e-05\n",
      "Epoch 49/100\n",
      "169/169 [==============================] - 63s 371ms/step - loss: 3.0416e-05 - val_loss: 3.0182e-04\n",
      "Epoch 50/100\n",
      "169/169 [==============================] - 62s 369ms/step - loss: 3.3498e-05 - val_loss: 4.4952e-05\n",
      "Epoch 51/100\n",
      "169/169 [==============================] - 62s 369ms/step - loss: 3.9179e-05 - val_loss: 1.4136e-04\n",
      "Epoch 52/100\n",
      "169/169 [==============================] - 63s 373ms/step - loss: 3.1923e-05 - val_loss: 4.7559e-05\n",
      "Epoch 53/100\n",
      "169/169 [==============================] - 62s 367ms/step - loss: 3.6922e-05 - val_loss: 3.6916e-04\n",
      "Epoch 54/100\n",
      "169/169 [==============================] - 62s 370ms/step - loss: 3.1507e-05 - val_loss: 7.7761e-05\n",
      "Epoch 55/100\n",
      "169/169 [==============================] - 63s 371ms/step - loss: 3.4853e-05 - val_loss: 5.5965e-05\n",
      "Epoch 56/100\n",
      "169/169 [==============================] - 64s 378ms/step - loss: 3.0119e-05 - val_loss: 4.9946e-05\n",
      "Epoch 57/100\n",
      "169/169 [==============================] - 62s 368ms/step - loss: 3.2529e-05 - val_loss: 3.9933e-05\n",
      "Epoch 58/100\n",
      "169/169 [==============================] - 64s 377ms/step - loss: 3.8451e-05 - val_loss: 4.6687e-05\n",
      "Epoch 59/100\n",
      "169/169 [==============================] - 59s 349ms/step - loss: 3.3951e-05 - val_loss: 7.6035e-05\n",
      "Epoch 60/100\n",
      "169/169 [==============================] - 62s 365ms/step - loss: 3.4037e-05 - val_loss: 4.5449e-05\n",
      "Epoch 61/100\n",
      "169/169 [==============================] - 51s 305ms/step - loss: 2.9664e-05 - val_loss: 1.2685e-04\n",
      "Epoch 62/100\n",
      "169/169 [==============================] - 46s 271ms/step - loss: 3.3859e-05 - val_loss: 8.4864e-05\n",
      "Epoch 63/100\n",
      "169/169 [==============================] - 57s 336ms/step - loss: 3.0511e-05 - val_loss: 4.6309e-05\n",
      "Epoch 64/100\n",
      "169/169 [==============================] - 66s 394ms/step - loss: 3.3274e-05 - val_loss: 4.6581e-05\n",
      "Epoch 65/100\n",
      "169/169 [==============================] - 64s 382ms/step - loss: 2.9423e-05 - val_loss: 5.9116e-05\n",
      "Epoch 66/100\n",
      "169/169 [==============================] - 64s 381ms/step - loss: 3.2632e-05 - val_loss: 4.5668e-05\n",
      "Epoch 67/100\n",
      "169/169 [==============================] - 64s 382ms/step - loss: 3.7325e-05 - val_loss: 7.6632e-05\n",
      "Epoch 68/100\n",
      "169/169 [==============================] - 65s 385ms/step - loss: 3.6498e-05 - val_loss: 8.9863e-05\n",
      "Epoch 69/100\n",
      "169/169 [==============================] - 66s 389ms/step - loss: 3.0320e-05 - val_loss: 6.2027e-05\n",
      "Epoch 70/100\n",
      "169/169 [==============================] - 65s 387ms/step - loss: 3.0958e-05 - val_loss: 7.7870e-05\n",
      "Epoch 71/100\n",
      "169/169 [==============================] - 62s 367ms/step - loss: 3.0662e-05 - val_loss: 5.6164e-05\n",
      "Epoch 72/100\n",
      "169/169 [==============================] - 63s 375ms/step - loss: 2.8578e-05 - val_loss: 8.8082e-05\n",
      "Epoch 73/100\n"
     ]
    },
    {
     "name": "stdout",
     "output_type": "stream",
     "text": [
      "169/169 [==============================] - 63s 374ms/step - loss: 3.5229e-05 - val_loss: 6.5458e-05\n",
      "Epoch 74/100\n",
      "169/169 [==============================] - 63s 374ms/step - loss: 3.1004e-05 - val_loss: 5.9166e-05\n",
      "Epoch 75/100\n",
      "169/169 [==============================] - 63s 374ms/step - loss: 3.0553e-05 - val_loss: 4.6563e-05\n",
      "Epoch 76/100\n",
      "169/169 [==============================] - 64s 379ms/step - loss: 4.0590e-05 - val_loss: 2.0770e-04\n",
      "Epoch 77/100\n",
      "169/169 [==============================] - 64s 380ms/step - loss: 3.1541e-05 - val_loss: 4.6658e-05\n",
      "Epoch 78/100\n",
      "169/169 [==============================] - 64s 381ms/step - loss: 2.7792e-05 - val_loss: 5.8267e-05\n",
      "Epoch 79/100\n",
      "169/169 [==============================] - 65s 383ms/step - loss: 2.7891e-05 - val_loss: 4.8437e-05\n",
      "Epoch 80/100\n",
      "169/169 [==============================] - 67s 397ms/step - loss: 2.9202e-05 - val_loss: 8.0878e-05\n",
      "Epoch 81/100\n",
      "169/169 [==============================] - 66s 393ms/step - loss: 2.9610e-05 - val_loss: 9.1090e-05\n",
      "Epoch 82/100\n",
      "169/169 [==============================] - 68s 401ms/step - loss: 3.0874e-05 - val_loss: 9.1828e-05\n",
      "Epoch 83/100\n",
      "169/169 [==============================] - 66s 391ms/step - loss: 3.1058e-05 - val_loss: 8.8366e-05\n",
      "Epoch 84/100\n",
      "169/169 [==============================] - 67s 394ms/step - loss: 3.3004e-05 - val_loss: 9.8955e-05\n",
      "Epoch 85/100\n",
      "169/169 [==============================] - 67s 395ms/step - loss: 3.3999e-05 - val_loss: 6.7003e-05\n",
      "Epoch 86/100\n",
      "169/169 [==============================] - 65s 386ms/step - loss: 3.0314e-05 - val_loss: 1.5027e-04\n",
      "Epoch 87/100\n",
      "169/169 [==============================] - 59s 348ms/step - loss: 2.8104e-05 - val_loss: 5.8994e-05\n",
      "Epoch 88/100\n",
      "169/169 [==============================] - 58s 346ms/step - loss: 2.8846e-05 - val_loss: 4.4748e-05\n",
      "Epoch 89/100\n",
      "169/169 [==============================] - 59s 347ms/step - loss: 2.9487e-05 - val_loss: 6.2152e-05\n",
      "Epoch 90/100\n",
      "169/169 [==============================] - 59s 347ms/step - loss: 3.0330e-05 - val_loss: 4.2211e-05\n",
      "Epoch 91/100\n",
      "169/169 [==============================] - 58s 346ms/step - loss: 2.8562e-05 - val_loss: 4.8372e-05\n",
      "Epoch 92/100\n",
      "169/169 [==============================] - 59s 351ms/step - loss: 2.9462e-05 - val_loss: 5.6642e-05\n",
      "Epoch 93/100\n",
      "169/169 [==============================] - 59s 350ms/step - loss: 2.7919e-05 - val_loss: 4.9895e-05\n",
      "Epoch 94/100\n",
      "169/169 [==============================] - 59s 350ms/step - loss: 3.0920e-05 - val_loss: 7.9203e-05\n",
      "Epoch 95/100\n",
      "169/169 [==============================] - 59s 352ms/step - loss: 2.9817e-05 - val_loss: 1.3770e-04\n",
      "Epoch 96/100\n",
      "169/169 [==============================] - 59s 350ms/step - loss: 3.0772e-05 - val_loss: 1.3506e-04\n",
      "Epoch 97/100\n",
      "169/169 [==============================] - 59s 350ms/step - loss: 3.0072e-05 - val_loss: 4.8501e-05\n",
      "Epoch 98/100\n",
      "169/169 [==============================] - 59s 348ms/step - loss: 3.2721e-05 - val_loss: 4.2464e-05\n",
      "Epoch 99/100\n",
      "169/169 [==============================] - 59s 350ms/step - loss: 2.8414e-05 - val_loss: 4.9734e-05\n",
      "Epoch 100/100\n",
      "169/169 [==============================] - 60s 354ms/step - loss: 2.9231e-05 - val_loss: 5.5153e-05\n"
     ]
    },
    {
     "data": {
      "text/plain": [
       "<keras.callbacks.History at 0x1825a45cac0>"
      ]
     },
     "execution_count": 27,
     "metadata": {},
     "output_type": "execute_result"
    }
   ],
   "source": [
    "model.fit(x_train,y_train,validation_data=(x_test,y_test),epochs=100,batch_size=64,verbose=1)"
   ]
  },
  {
   "cell_type": "code",
   "execution_count": 28,
   "metadata": {},
   "outputs": [
    {
     "data": {
      "text/plain": [
       "'2.9.1'"
      ]
     },
     "execution_count": 28,
     "metadata": {},
     "output_type": "execute_result"
    }
   ],
   "source": [
    "import tensorflow as tf\n",
    "tf.__version__"
   ]
  },
  {
   "cell_type": "code",
   "execution_count": 29,
   "metadata": {},
   "outputs": [
    {
     "name": "stdout",
     "output_type": "stream",
     "text": [
      "338/338 [==============================] - 30s 77ms/step\n",
      "181/181 [==============================] - 14s 76ms/step\n"
     ]
    }
   ],
   "source": [
    "### Lets Do the prediction and check performance metrics\n",
    "train_predict=model.predict(x_train)\n",
    "test_predict=model.predict(x_test)"
   ]
  },
  {
   "cell_type": "code",
   "execution_count": 30,
   "metadata": {},
   "outputs": [],
   "source": [
    "##Transformback to original form\n",
    "train_predict=scaler.inverse_transform(train_predict)\n",
    "test_predict=scaler.inverse_transform(test_predict)"
   ]
  },
  {
   "cell_type": "code",
   "execution_count": null,
   "metadata": {},
   "outputs": [],
   "source": [
    "### Calculate RMSE performance metrics\n",
    "import math\n",
    "from sklearn.metrics import mean_squared_error\n",
    "math.sqrt(mean_squared_error(y_train,train_predict))"
   ]
  },
  {
   "cell_type": "code",
   "execution_count": null,
   "metadata": {},
   "outputs": [],
   "source": [
    "### Test Data RMSE\n",
    "math.sqrt(mean_squared_error(y_test,test_predict))"
   ]
  },
  {
   "cell_type": "code",
   "execution_count": null,
   "metadata": {},
   "outputs": [],
   "source": [
    "### Plotting \n",
    "# shift train predictions for plotting\n",
    "look_back=100\n",
    "trainPredictPlot = numpy.empty_like(df1)\n",
    "trainPredictPlot[:, :] = np.nan\n",
    "trainPredictPlot[look_back:len(train_predict)+look_back, :] = train_predict\n",
    "# shift test predictions for plotting\n",
    "testPredictPlot = numpy.empty_like(df1)\n",
    "testPredictPlot[:, :] = numpy.nan\n",
    "testPredictPlot[len(train_predict)+(look_back*2)+1:len(df1)-1, :] = test_predict\n",
    "# plot baseline and predictions\n",
    "plt.plot(scaler.inverse_transform(df1))\n",
    "plt.plot(trainPredictPlot)\n",
    "plt.plot(testPredictPlot)\n",
    "plt.show()"
   ]
  },
  {
   "cell_type": "code",
   "execution_count": null,
   "metadata": {},
   "outputs": [],
   "source": [
    "len(test_data)"
   ]
  },
  {
   "cell_type": "code",
   "execution_count": null,
   "metadata": {},
   "outputs": [],
   "source": [
    "x_input=test_data[341:].reshape(1,-1)\n",
    "x_input.shape"
   ]
  },
  {
   "cell_type": "code",
   "execution_count": null,
   "metadata": {},
   "outputs": [],
   "source": [
    "temp_input=list(x_input)\n",
    "temp_input=temp_input[0].tolist()"
   ]
  },
  {
   "cell_type": "code",
   "execution_count": null,
   "metadata": {},
   "outputs": [],
   "source": [
    "temp_input"
   ]
  },
  {
   "cell_type": "code",
   "execution_count": null,
   "metadata": {},
   "outputs": [],
   "source": [
    "# demonstrate prediction for next 30 days\n",
    "from numpy import array\n",
    "\n",
    "lst_output=[]\n",
    "n_steps=100\n",
    "i=0\n",
    "while(i<30):\n",
    "    \n",
    "    if(len(temp_input)>100):\n",
    "        #print(temp_input)\n",
    "        x_input=np.array(temp_input[1:])\n",
    "        print(\"{} day input {}\".format(i,x_input))\n",
    "        x_input=x_input.reshape(1,-1)\n",
    "        x_input = x_input.reshape((1, n_steps, 1))\n",
    "        #print(x_input)\n",
    "        yhat = model.predict(x_input, verbose=0)\n",
    "        print(\"{} day output {}\".format(i,yhat))\n",
    "        temp_input.extend(yhat[0].tolist())\n",
    "        temp_input=temp_input[1:]\n",
    "        #print(temp_input)\n",
    "        lst_output.extend(yhat.tolist())\n",
    "        i=i+1\n",
    "    else:\n",
    "        x_input = x_input.reshape((1, n_steps,1))\n",
    "        yhat = model.predict(x_input, verbose=0)\n",
    "        print(yhat[0])\n",
    "        temp_input.extend(yhat[0].tolist())\n",
    "        print(len(temp_input))\n",
    "        lst_output.extend(yhat.tolist())\n",
    "        i=i+1\n",
    "    \n",
    "\n",
    "print(lst_output)"
   ]
  },
  {
   "cell_type": "code",
   "execution_count": null,
   "metadata": {},
   "outputs": [],
   "source": [
    "day_new=np.arange(1,101)\n",
    "day_pred=np.arange(101,131)"
   ]
  },
  {
   "cell_type": "code",
   "execution_count": null,
   "metadata": {},
   "outputs": [],
   "source": [
    "import matplotlib.pyplot as plt"
   ]
  },
  {
   "cell_type": "code",
   "execution_count": null,
   "metadata": {},
   "outputs": [],
   "source": [
    "len(df1)"
   ]
  },
  {
   "cell_type": "code",
   "execution_count": null,
   "metadata": {},
   "outputs": [],
   "source": [
    "scaler.inverse_transform(lst_output)"
   ]
  },
  {
   "cell_type": "code",
   "execution_count": null,
   "metadata": {},
   "outputs": [],
   "source": [
    "plt.plot(day_new,scaler.inverse_transform(df1[1158:]))\n",
    "plt.plot(day_pred,scaler.inverse_transform(lst_output))\n",
    "plt.savefig('30daypredict.png')"
   ]
  },
  {
   "cell_type": "code",
   "execution_count": null,
   "metadata": {},
   "outputs": [],
   "source": [
    "df3=df1.tolist()\n",
    "df3.extend(lst_output)\n",
    "plt.plot(df3[1200:])"
   ]
  },
  {
   "cell_type": "code",
   "execution_count": null,
   "metadata": {},
   "outputs": [],
   "source": [
    "df3=scaler.inverse_transform(df3).tolist()"
   ]
  },
  {
   "cell_type": "code",
   "execution_count": null,
   "metadata": {},
   "outputs": [],
   "source": [
    "plt.plot(df3)"
   ]
  },
  {
   "cell_type": "code",
   "execution_count": null,
   "metadata": {},
   "outputs": [],
   "source": [
    "import tensorflow.compat.v1 as tf\n",
    "tf.disable_v2_behavior()\n",
    "from collections import deque\n",
    "import random\n",
    "        \n",
    "class Agent:\n",
    "\n",
    "    LEARNING_RATE = 0.003\n",
    "    BATCH_SIZE = 32\n",
    "    LAYER_SIZE = 256\n",
    "    OUTPUT_SIZE = 3\n",
    "    EPSILON = 0.5\n",
    "    DECAY_RATE = 0.005\n",
    "    MIN_EPSILON = 0.1\n",
    "    GAMMA = 0.99\n",
    "    MEMORIES = deque()\n",
    "    MEMORY_SIZE = 300\n",
    "    \n",
    "    def __init__(self, state_size, window_size, trend, skip):\n",
    "        self.state_size = state_size\n",
    "        self.window_size = window_size\n",
    "        self.half_window = window_size // 2\n",
    "        self.trend = trend\n",
    "        self.skip = skip\n",
    "        tf.compat.v1.reset_default_graph()\n",
    "        self.INITIAL_FEATURES = np.zeros((4, self.state_size))\n",
    "        self.X = tf.placeholder(tf.float32, (None, None, self.state_size))\n",
    "        self.Y = tf.placeholder(tf.float32, (None, self.OUTPUT_SIZE))\n",
    "        cell = tf.nn.rnn_cell.LSTMCell(self.LAYER_SIZE, state_is_tuple = False)\n",
    "        self.hidden_layer = tf.placeholder(tf.float32, (None, 2 * self.LAYER_SIZE))\n",
    "        self.rnn,self.last_state = tf.nn.dynamic_rnn(inputs=self.X,cell=cell,\n",
    "                                                    dtype=tf.float32,\n",
    "                                                    initial_state=self.hidden_layer)\n",
    "        tensor_action, tensor_validation = tf.split(self.rnn[:,-1],2,1)\n",
    "        feed_action = tf.layers.dense(tensor_action, self.OUTPUT_SIZE)\n",
    "        feed_validation = tf.layers.dense(tensor_validation, 1)\n",
    "        self.logits = feed_validation + tf.subtract(feed_action,tf.reduce_mean(feed_action,axis=1,keep_dims=True))\n",
    "        self.cost = tf.reduce_sum(tf.square(self.Y - self.logits))\n",
    "        self.optimizer = tf.train.AdamOptimizer(learning_rate = self.LEARNING_RATE).minimize(self.cost)\n",
    "        self.sess = tf.InteractiveSession()\n",
    "        self.sess.run(tf.global_variables_initializer())\n",
    "    \n",
    "    def _memorize(self, state, action, reward, new_state, dead, rnn_state):\n",
    "        self.MEMORIES.append((state, action, reward, new_state, dead, rnn_state))\n",
    "        if len(self.MEMORIES) > self.MEMORY_SIZE:\n",
    "            self.MEMORIES.popleft()\n",
    "\n",
    "    def _construct_memories(self, replay):\n",
    "        states = np.array([a[0] for a in replay])\n",
    "        new_states = np.array([a[3] for a in replay])\n",
    "        init_values = np.array([a[-1] for a in replay])\n",
    "        Q = self.sess.run(self.logits, feed_dict={self.X:states, self.hidden_layer:init_values})\n",
    "        Q_new = self.sess.run(self.logits, feed_dict={self.X:new_states, self.hidden_layer:init_values})\n",
    "        replay_size = len(replay)\n",
    "        X = np.empty((replay_size, 4, self.state_size))\n",
    "        Y = np.empty((replay_size, self.OUTPUT_SIZE))\n",
    "        INIT_VAL = np.empty((replay_size, 2 * self.LAYER_SIZE))\n",
    "        for i in range(replay_size):\n",
    "            state_r, action_r, reward_r, new_state_r, dead_r, rnn_memory = replay[i]\n",
    "            target = Q[i]\n",
    "            target[action_r] = reward_r\n",
    "            if not dead_r:\n",
    "                target[action_r] += self.GAMMA * np.amax(Q_new[i])\n",
    "            X[i] = state_r\n",
    "            Y[i] = target\n",
    "            INIT_VAL[i] = rnn_memory\n",
    "        return X, Y, INIT_VAL\n",
    "    \n",
    "    def get_state(self, t):\n",
    "        window_size = self.window_size + 1\n",
    "        d = t - window_size + 1\n",
    "        block = self.trend[d : t + 1] if d >= 0 else -d * [self.trend[0]] + self.trend[0 : t + 1]\n",
    "        res = []\n",
    "        for i in range(window_size - 1):\n",
    "            res.append(block[i + 1] - block[i])\n",
    "        return np.array(res)\n",
    "    \n",
    "    def buy(self, initial_money):\n",
    "        starting_money = initial_money\n",
    "        states_sell = []\n",
    "        states_buy = []\n",
    "        inventory = []\n",
    "        state = self.get_state(0)\n",
    "        init_value = np.zeros((1, 2 * self.LAYER_SIZE))\n",
    "        for k in range(self.INITIAL_FEATURES.shape[0]):\n",
    "            self.INITIAL_FEATURES[k,:] = state\n",
    "        for t in range(0, len(self.trend) - 1, self.skip):\n",
    "            action, last_state = self.sess.run([self.logits,self.last_state],\n",
    "                                                feed_dict={self.X:[self.INITIAL_FEATURES],\n",
    "                                                            self.hidden_layer:init_value})\n",
    "            action, init_value = np.argmax(action[0]), last_state\n",
    "            next_state = self.get_state(t + 1)\n",
    "            \n",
    "            if action == 1 and initial_money >= self.trend[t]:\n",
    "                inventory.append(self.trend[t])\n",
    "                initial_money -= self.trend[t]\n",
    "                states_buy.append(t)\n",
    "                print('day %d: buy 1 unit at price %f, total balance %f'% (t, self.trend[t], initial_money))\n",
    "            \n",
    "            elif action == 2 and len(inventory):\n",
    "                bought_price = inventory.pop(0)\n",
    "                initial_money += self.trend[t]\n",
    "                states_sell.append(t)\n",
    "                try:\n",
    "                    invest = ((close[t] - bought_price) / bought_price) * 100\n",
    "                except:\n",
    "                    invest = 0\n",
    "                print(\n",
    "                    'day %d, sell 1 unit at price %f, investment %f %%, total balance %f,'\n",
    "                    % (t, close[t], invest, initial_money)\n",
    "                )\n",
    "            \n",
    "            new_state = np.append([self.get_state(t + 1)], self.INITIAL_FEATURES[:3, :], axis = 0)\n",
    "            self.INITIAL_FEATURES = new_state\n",
    "        invest = ((initial_money - starting_money) / starting_money) * 100\n",
    "        total_gains = initial_money - starting_money\n",
    "        return states_buy, states_sell, total_gains, invest\n",
    "            \n",
    "    \n",
    "    def train(self, iterations, checkpoint, initial_money):\n",
    "        for i in range(iterations):\n",
    "            total_profit = 0\n",
    "            inventory = []\n",
    "            state = self.get_state(0)\n",
    "            starting_money = initial_money\n",
    "            init_value = np.zeros((1, 2 * self.LAYER_SIZE))\n",
    "            for k in range(self.INITIAL_FEATURES.shape[0]):\n",
    "                self.INITIAL_FEATURES[k,:] = state\n",
    "            for t in range(0, len(self.trend) - 1, self.skip):\n",
    "                \n",
    "                if np.random.rand() < self.EPSILON:\n",
    "                    action = np.random.randint(self.OUTPUT_SIZE)\n",
    "                else:\n",
    "                    action, last_state = self.sess.run([self.logits,\n",
    "                                                  self.last_state],\n",
    "                                                  feed_dict={self.X:[self.INITIAL_FEATURES],\n",
    "                                                             self.hidden_layer:init_value})\n",
    "                    action, init_value = np.argmax(action[0]), last_state\n",
    "                    \n",
    "                next_state = self.get_state(t + 1)\n",
    "                \n",
    "                if action == 1 and starting_money >= self.trend[t]:\n",
    "                    inventory.append(self.trend[t])\n",
    "                    starting_money -= self.trend[t]\n",
    "                \n",
    "                elif action == 2 and len(inventory) > 0:\n",
    "                    bought_price = inventory.pop(0)\n",
    "                    total_profit += self.trend[t] - bought_price\n",
    "                    starting_money += self.trend[t]\n",
    "                    \n",
    "                invest = ((starting_money - initial_money) / initial_money)\n",
    "                new_state = np.append([self.get_state(t + 1)], self.INITIAL_FEATURES[:3, :], axis = 0)\n",
    "                self._memorize(self.INITIAL_FEATURES, action, invest, new_state, \n",
    "                               starting_money < initial_money, init_value[0])\n",
    "                self.INITIAL_FEATURES = new_state\n",
    "                batch_size = min(len(self.MEMORIES), self.BATCH_SIZE)\n",
    "                replay = random.sample(self.MEMORIES, batch_size)\n",
    "                X, Y, INIT_VAL = self._construct_memories(replay)\n",
    "                \n",
    "                cost, _ = self.sess.run([self.cost, self.optimizer], \n",
    "                                        feed_dict={self.X: X, self.Y:Y,\n",
    "                                                  self.hidden_layer: INIT_VAL})\n",
    "                self.EPSILON = self.MIN_EPSILON + (1.0 - self.MIN_EPSILON) * np.exp(-self.DECAY_RATE * i)\n",
    "                \n",
    "            if (i+1) % checkpoint == 0:\n",
    "                print('epoch: %d, total rewards: %f.3, cost: %f, total money: %f'%(i + 1, total_profit, cost,\n",
    "                                                                                  starting_money))"
   ]
  },
  {
   "cell_type": "code",
   "execution_count": null,
   "metadata": {},
   "outputs": [],
   "source": [
    "close = df.close.values.tolist()\n",
    "initial_money = 10000\n",
    "window_size = 30\n",
    "skip = 1\n",
    "batch_size = 32\n",
    "agent = Agent(state_size = window_size, \n",
    "              window_size = window_size, \n",
    "              trend = close, \n",
    "              skip = skip)\n",
    "agent.train(iterations = 200, checkpoint = 10, initial_money = initial_money)"
   ]
  },
  {
   "cell_type": "code",
   "execution_count": null,
   "metadata": {},
   "outputs": [],
   "source": [
    "states_buy, states_sell, total_gains, invest = agent.buy(initial_money = initial_money)"
   ]
  },
  {
   "cell_type": "code",
   "execution_count": null,
   "metadata": {},
   "outputs": [],
   "source": [
    "fig = plt.figure(figsize = (15,5))\n",
    "plt.plot(close, color='r', lw=2.)\n",
    "plt.plot(close, '^', markersize=10, color='m', label = 'buying signal', markevery = states_buy)\n",
    "plt.plot(close, 'v', markersize=10, color='k', label = 'selling signal', markevery = states_sell)\n",
    "plt.title('total gains %f, total investment %f%%'%(total_gains, invest))\n",
    "plt.legend()\n",
    "plt.show()"
   ]
  },
  {
   "cell_type": "code",
   "execution_count": null,
   "metadata": {},
   "outputs": [],
   "source": []
  }
 ],
 "metadata": {
  "colab": {
   "provenance": []
  },
  "kernelspec": {
   "display_name": "Python 3",
   "language": "python",
   "name": "python3"
  },
  "language_info": {
   "codemirror_mode": {
    "name": "ipython",
    "version": 3
   },
   "file_extension": ".py",
   "mimetype": "text/x-python",
   "name": "python",
   "nbconvert_exporter": "python",
   "pygments_lexer": "ipython3",
   "version": "3.8.5"
  }
 },
 "nbformat": 4,
 "nbformat_minor": 1
}
